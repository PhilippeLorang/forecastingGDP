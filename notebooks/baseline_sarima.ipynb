{
 "cells": [
  {
   "cell_type": "markdown",
   "id": "27734213-67e0-4b2a-a75e-fb76e3c21703",
   "metadata": {},
   "source": [
    "## Simple SARIMA on GDP"
   ]
  },
  {
   "cell_type": "markdown",
   "id": "640e67aa-e2f8-4277-b214-2dbb98d5eb54",
   "metadata": {},
   "source": [
    "### Pre-requisite : declaring Fred API KEY\n",
    "\n",
    "Following command will add `FRED_API_KEY` to your `zsh` environment, this has to be done at least once.\n",
    "\n",
    "    echo 'export FRED_API_KEY=your_API_key_here' >> ~/.zshenv\n",
    "    \n",
    "Then make sure your restart your terminal/Jupyter notebook to make sure this change is effective.\n",
    "\n",
    "You should now be able to print your key when executing the following\n",
    "\n",
    "    echo $FRED_API_KEY"
   ]
  },
  {
   "cell_type": "code",
   "execution_count": 2,
   "id": "a8f3a914-c303-49dc-9be7-d7e49d998c8e",
   "metadata": {},
   "outputs": [],
   "source": [
    "fred = Fred()"
   ]
  },
  {
   "cell_type": "code",
   "execution_count": 5,
   "id": "e48bdaeb-615c-42cd-9d71-6f2e6f469228",
   "metadata": {},
   "outputs": [
    {
     "data": {
      "text/plain": [
       "1947-01-01     2033.061\n",
       "1947-04-01     2027.639\n",
       "1947-07-01     2023.452\n",
       "1947-10-01     2055.103\n",
       "1948-01-01     2086.017\n",
       "                ...    \n",
       "2020-01-01    19010.848\n",
       "2020-04-01    17302.511\n",
       "2020-07-01    18596.521\n",
       "2020-10-01    18794.426\n",
       "2021-01-01    19086.375\n",
       "Length: 297, dtype: float64"
      ]
     },
     "execution_count": 5,
     "metadata": {},
     "output_type": "execute_result"
    }
   ],
   "source": [
    "data = fred.get_series('GDPC1')\n",
    "data"
   ]
  }
 ],
 "metadata": {
  "kernelspec": {
   "display_name": "Python 3",
   "language": "python",
   "name": "python3"
  },
  "language_info": {
   "codemirror_mode": {
    "name": "ipython",
    "version": 3
   },
   "file_extension": ".py",
   "mimetype": "text/x-python",
   "name": "python",
   "nbconvert_exporter": "python",
   "pygments_lexer": "ipython3",
   "version": "3.8.6"
  }
 },
 "nbformat": 4,
 "nbformat_minor": 5
}
