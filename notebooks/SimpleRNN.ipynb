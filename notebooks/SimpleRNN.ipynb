{
 "cells": [
  {
   "cell_type": "code",
   "execution_count": 3,
   "id": "ffc8c069",
   "metadata": {},
   "outputs": [],
   "source": [
    "import sys\n",
    "sys.path.append('/Users/Esteban/code/PhilippeLorang/forecastingGDP')"
   ]
  },
  {
   "cell_type": "code",
   "execution_count": 4,
   "id": "012b2796",
   "metadata": {},
   "outputs": [],
   "source": [
    "import pandas as pd\n",
    "import numpy as np\n",
    "import sys\n",
    "import matplotlib.pyplot as plt\n",
    "from fredapi import Fred\n",
    "from tensorflow.keras.preprocessing.sequence import pad_sequences\n",
    "from tensorflow.keras import models\n",
    "from tensorflow.keras import layers\n",
    "from tensorflow.keras.optimizers import RMSprop\n",
    "from forecastingGDP.data import get_data\n",
    "from sklearn.preprocessing import MinMaxScaler"
   ]
  },
  {
   "cell_type": "markdown",
   "id": "000f06de",
   "metadata": {},
   "source": [
    "### Data"
   ]
  },
  {
   "cell_type": "markdown",
   "id": "cf826124",
   "metadata": {},
   "source": [
    "#### Retrieval"
   ]
  },
  {
   "cell_type": "code",
   "execution_count": 5,
   "id": "977593dd",
   "metadata": {},
   "outputs": [],
   "source": [
    "df=get_data()"
   ]
  },
  {
   "cell_type": "code",
   "execution_count": 6,
   "id": "5a4f4432",
   "metadata": {},
   "outputs": [
    {
     "data": {
      "text/plain": [
       "(434, 27)"
      ]
     },
     "execution_count": 6,
     "metadata": {},
     "output_type": "execute_result"
    }
   ],
   "source": [
    "df.shape"
   ]
  },
  {
   "cell_type": "code",
   "execution_count": 7,
   "id": "5a2a1f4c",
   "metadata": {},
   "outputs": [
    {
     "data": {
      "text/plain": [
       "6553"
      ]
     },
     "execution_count": 7,
     "metadata": {},
     "output_type": "execute_result"
    }
   ],
   "source": [
    "#Number of NaN in df\n",
    "df.isnull().sum().sum()"
   ]
  },
  {
   "cell_type": "code",
   "execution_count": 8,
   "id": "2c53f4a7",
   "metadata": {},
   "outputs": [
    {
     "name": "stdout",
     "output_type": "stream",
     "text": [
      "GDPC1: 137\n",
      "INDPRO: 25\n",
      "ATLSBUSRGEP: 417\n",
      "TCU: 217\n",
      "AMTMNO: 318\n",
      "NEWORDER: 317\n",
      "CFNAI: 218\n",
      "UMCSENT: 170\n",
      "MARTSMPCSM44000USS: 318\n",
      "DSPIC96: 185\n",
      "PCEC96: 357\n",
      "UNRATE: 141\n",
      "CE16OV: 141\n",
      "PAYEMS: 105\n",
      "LNU05026648: 325\n",
      "CPIAUCSL: 137\n",
      "PCEPILFE: 185\n",
      "PPIACO: 1\n",
      "IEAMGSN: 345\n",
      "IEAXGS: 345\n",
      "IMPCH: 289\n",
      "BAMLH0A0HYM2: 336\n",
      "SP500: 394\n",
      "VIXCLS: 308\n",
      "DGS10: 196\n",
      "T10Y2Y: 254\n",
      "DTWEXAFEGS: 372\n"
     ]
    }
   ],
   "source": [
    "#Number of NaN per columns\n",
    "for col in df.columns:\n",
    "    print(f'{col}: {df[col].isnull().sum().sum()}')"
   ]
  },
  {
   "cell_type": "code",
   "execution_count": 9,
   "id": "f2d316ea",
   "metadata": {},
   "outputs": [],
   "source": [
    "###Test with the most complete features\n",
    "df=df[['GDPC1','INDPRO', 'PAYEMS','PPIACO']].dropna()"
   ]
  },
  {
   "cell_type": "code",
   "execution_count": 10,
   "id": "1a662500",
   "metadata": {},
   "outputs": [
    {
     "data": {
      "text/html": [
       "<div>\n",
       "<style scoped>\n",
       "    .dataframe tbody tr th:only-of-type {\n",
       "        vertical-align: middle;\n",
       "    }\n",
       "\n",
       "    .dataframe tbody tr th {\n",
       "        vertical-align: top;\n",
       "    }\n",
       "\n",
       "    .dataframe thead th {\n",
       "        text-align: right;\n",
       "    }\n",
       "</style>\n",
       "<table border=\"1\" class=\"dataframe\">\n",
       "  <thead>\n",
       "    <tr style=\"text-align: right;\">\n",
       "      <th></th>\n",
       "      <th>GDPC1</th>\n",
       "      <th>INDPRO</th>\n",
       "      <th>PAYEMS</th>\n",
       "      <th>PPIACO</th>\n",
       "    </tr>\n",
       "  </thead>\n",
       "  <tbody>\n",
       "    <tr>\n",
       "      <th>1947-01-01</th>\n",
       "      <td>2033.061</td>\n",
       "      <td>13.8059</td>\n",
       "      <td>43566.0</td>\n",
       "      <td>24.8</td>\n",
       "    </tr>\n",
       "    <tr>\n",
       "      <th>1947-04-01</th>\n",
       "      <td>2027.639</td>\n",
       "      <td>13.8149</td>\n",
       "      <td>43649.0</td>\n",
       "      <td>25.0</td>\n",
       "    </tr>\n",
       "    <tr>\n",
       "      <th>1947-07-01</th>\n",
       "      <td>2023.452</td>\n",
       "      <td>13.8420</td>\n",
       "      <td>43969.0</td>\n",
       "      <td>25.7</td>\n",
       "    </tr>\n",
       "    <tr>\n",
       "      <th>1947-10-01</th>\n",
       "      <td>2055.103</td>\n",
       "      <td>14.2202</td>\n",
       "      <td>44492.0</td>\n",
       "      <td>26.8</td>\n",
       "    </tr>\n",
       "    <tr>\n",
       "      <th>1948-01-01</th>\n",
       "      <td>2086.017</td>\n",
       "      <td>14.3643</td>\n",
       "      <td>44632.0</td>\n",
       "      <td>27.4</td>\n",
       "    </tr>\n",
       "  </tbody>\n",
       "</table>\n",
       "</div>"
      ],
      "text/plain": [
       "               GDPC1   INDPRO   PAYEMS  PPIACO\n",
       "1947-01-01  2033.061  13.8059  43566.0    24.8\n",
       "1947-04-01  2027.639  13.8149  43649.0    25.0\n",
       "1947-07-01  2023.452  13.8420  43969.0    25.7\n",
       "1947-10-01  2055.103  14.2202  44492.0    26.8\n",
       "1948-01-01  2086.017  14.3643  44632.0    27.4"
      ]
     },
     "execution_count": 10,
     "metadata": {},
     "output_type": "execute_result"
    }
   ],
   "source": [
    "df.head()"
   ]
  },
  {
   "cell_type": "code",
   "execution_count": 11,
   "id": "fe4f06c0",
   "metadata": {},
   "outputs": [
    {
     "data": {
      "text/plain": [
       "(297, 4)"
      ]
     },
     "execution_count": 11,
     "metadata": {},
     "output_type": "execute_result"
    }
   ],
   "source": [
    "df.shape"
   ]
  },
  {
   "cell_type": "markdown",
   "id": "82b6f6a7",
   "metadata": {},
   "source": [
    "#### df_train & df_test split"
   ]
  },
  {
   "cell_type": "code",
   "execution_count": 12,
   "id": "89559634",
   "metadata": {},
   "outputs": [],
   "source": [
    "# Time Serie split \n",
    "#We separate df into df_train and df_test such that the first 80% of the dataframe are in the training. \n",
    "#And the last 20% in the test set.\n",
    "\n",
    "len_ = int(0.8*df.shape[0])\n",
    "df_train = df[:len_]\n",
    "df_test = df[len_:]"
   ]
  },
  {
   "cell_type": "code",
   "execution_count": 13,
   "id": "24677677",
   "metadata": {},
   "outputs": [
    {
     "data": {
      "text/html": [
       "<div>\n",
       "<style scoped>\n",
       "    .dataframe tbody tr th:only-of-type {\n",
       "        vertical-align: middle;\n",
       "    }\n",
       "\n",
       "    .dataframe tbody tr th {\n",
       "        vertical-align: top;\n",
       "    }\n",
       "\n",
       "    .dataframe thead th {\n",
       "        text-align: right;\n",
       "    }\n",
       "</style>\n",
       "<table border=\"1\" class=\"dataframe\">\n",
       "  <thead>\n",
       "    <tr style=\"text-align: right;\">\n",
       "      <th></th>\n",
       "      <th>GDPC1</th>\n",
       "      <th>INDPRO</th>\n",
       "      <th>PAYEMS</th>\n",
       "      <th>PPIACO</th>\n",
       "    </tr>\n",
       "  </thead>\n",
       "  <tbody>\n",
       "    <tr>\n",
       "      <th>0</th>\n",
       "      <td>0.000726</td>\n",
       "      <td>0.002970</td>\n",
       "      <td>0.003578</td>\n",
       "      <td>0.000000</td>\n",
       "    </tr>\n",
       "    <tr>\n",
       "      <th>1</th>\n",
       "      <td>0.000316</td>\n",
       "      <td>0.003077</td>\n",
       "      <td>0.004476</td>\n",
       "      <td>0.001434</td>\n",
       "    </tr>\n",
       "    <tr>\n",
       "      <th>2</th>\n",
       "      <td>0.000000</td>\n",
       "      <td>0.003396</td>\n",
       "      <td>0.007935</td>\n",
       "      <td>0.006452</td>\n",
       "    </tr>\n",
       "    <tr>\n",
       "      <th>3</th>\n",
       "      <td>0.002390</td>\n",
       "      <td>0.007852</td>\n",
       "      <td>0.013589</td>\n",
       "      <td>0.014337</td>\n",
       "    </tr>\n",
       "    <tr>\n",
       "      <th>4</th>\n",
       "      <td>0.004724</td>\n",
       "      <td>0.009550</td>\n",
       "      <td>0.015102</td>\n",
       "      <td>0.018638</td>\n",
       "    </tr>\n",
       "  </tbody>\n",
       "</table>\n",
       "</div>"
      ],
      "text/plain": [
       "      GDPC1    INDPRO    PAYEMS    PPIACO\n",
       "0  0.000726  0.002970  0.003578  0.000000\n",
       "1  0.000316  0.003077  0.004476  0.001434\n",
       "2  0.000000  0.003396  0.007935  0.006452\n",
       "3  0.002390  0.007852  0.013589  0.014337\n",
       "4  0.004724  0.009550  0.015102  0.018638"
      ]
     },
     "execution_count": 13,
     "metadata": {},
     "output_type": "execute_result"
    }
   ],
   "source": [
    "# Scale with MinMaxScale so they have the same range\n",
    "columns = df.columns\n",
    "\n",
    "scaler = MinMaxScaler()\n",
    "df_train = pd.DataFrame(scaler.fit_transform(df_train), columns=columns)\n",
    "df_test = pd.DataFrame(scaler.transform(df_test), columns=columns)\n",
    "df_train.head()"
   ]
  },
  {
   "cell_type": "code",
   "execution_count": 14,
   "id": "bfef143e",
   "metadata": {},
   "outputs": [
    {
     "data": {
      "text/plain": [
       "(237, 4)"
      ]
     },
     "execution_count": 14,
     "metadata": {},
     "output_type": "execute_result"
    }
   ],
   "source": [
    "df_train.shape"
   ]
  },
  {
   "cell_type": "code",
   "execution_count": 15,
   "id": "b3fad1f5",
   "metadata": {},
   "outputs": [
    {
     "data": {
      "text/plain": [
       "(60, 4)"
      ]
     },
     "execution_count": 15,
     "metadata": {},
     "output_type": "execute_result"
    }
   ],
   "source": [
    "df_test.shape"
   ]
  },
  {
   "cell_type": "code",
   "execution_count": 16,
   "id": "9f26d21f",
   "metadata": {},
   "outputs": [],
   "source": [
    "def subsample_sequence(df, length):\n",
    "    \"\"\"\n",
    "    Given the initial dataframe `df`, return a shorter dataframe sequence of length `length`.\n",
    "    This shorter sequence should be selected at random.\n",
    "    \"\"\"\n",
    "    \n",
    "    last_possible = df.shape[0] - length\n",
    "    \n",
    "    random_start = np.random.randint(0, last_possible)\n",
    "    df_sample = df[random_start: random_start+length]\n",
    "    \n",
    "    return df_sample\n",
    "\n",
    "def split_subsample_sequence(df, length, df_mean=None):\n",
    "    \"\"\"Return one single sample (Xi, yi) containing one sequence each of length `length`\"\"\"\n",
    "    features_names = ['INDPRO', 'PAYEMS', 'PPIACO']\n",
    "    \n",
    "    # Trick to save time during the recursive calls\n",
    "    if df_mean is None:\n",
    "        df_mean = df[features_names].mean()\n",
    "        \n",
    "    df_subsample = subsample_sequence(df, length).copy()\n",
    "    \n",
    "    # Let's drop any row without a target! We need targets to fit our model\n",
    "    df_subsample.dropna(how='any', subset=['GDPC1'], inplace=True)\n",
    "    \n",
    "    # Create y_sample\n",
    "    if df_subsample.shape[0] == 0: # Case if there is no targets at all remaining\n",
    "        return split_subsample_sequence(df, length, df_mean) # Redraw by recursive call until it's not the case anymore\n",
    "    y_sample = df_subsample[['GDPC1']]\n",
    "    \n",
    "    # Create X_sample\n",
    "    X_sample = df_subsample[features_names]\n",
    "        \n",
    "    return np.array(X_sample), np.array(y_sample)\n",
    "\n",
    "def get_X_y(df, sequence_lengths):\n",
    "    '''Return a dataset (X, y)'''\n",
    "    X, y = [], []\n",
    "\n",
    "    for length in sequence_lengths:\n",
    "        xi, yi = split_subsample_sequence(df, length)\n",
    "        X.append(xi)\n",
    "        y.append(yi)\n",
    "        \n",
    "    return X, y"
   ]
  },
  {
   "cell_type": "code",
   "execution_count": 17,
   "id": "87c180b3",
   "metadata": {},
   "outputs": [],
   "source": [
    "# Here we define the parameter to generate our train/test sets\n",
    "train_size = df_train.size\n",
    "test_size = round(0.2 * train_size)\n",
    "\n",
    "min_seq_len = 8\n",
    "max_seq_len = 50"
   ]
  },
  {
   "cell_type": "code",
   "execution_count": 18,
   "id": "5907cd65",
   "metadata": {},
   "outputs": [],
   "source": [
    "# Generate some train/test sets\n",
    "sequence_lengths_train = np.random.randint(low=min_seq_len, high=max_seq_len, size=train_size)\n",
    "X_train, y_train = get_X_y(df_train, sequence_lengths_train)\n",
    "\n",
    "sequence_lengths_test = np.random.randint(low=min_seq_len, high=max_seq_len, size=test_size)\n",
    "X_test, y_test = get_X_y(df_test, sequence_lengths_test)"
   ]
  },
  {
   "cell_type": "code",
   "execution_count": 19,
   "id": "0bd1bfb2",
   "metadata": {},
   "outputs": [
    {
     "data": {
      "text/plain": [
       "(948, 50, 3)"
      ]
     },
     "execution_count": 19,
     "metadata": {},
     "output_type": "execute_result"
    }
   ],
   "source": [
    "#padding to make sure that our subsequences have the same lenght for computaiton purposes\n",
    "X_train_pad = pad_sequences(X_train, value=-1000., dtype=float, padding='post', maxlen=max_seq_len)\n",
    "y_train_pad = pad_sequences(y_train, value=-1000., dtype=float, padding='post', maxlen=max_seq_len)\n",
    "\n",
    "X_test_pad = pad_sequences(X_test, value=-1000., dtype=float, padding='post', maxlen=max_seq_len)\n",
    "y_test_pad = pad_sequences(y_test, value=-1000., dtype=float, padding='post', maxlen=max_seq_len)\n",
    "\n",
    "X_train_pad.shape"
   ]
  },
  {
   "cell_type": "markdown",
   "id": "e275121f",
   "metadata": {},
   "source": [
    "### RNN MODEL"
   ]
  },
  {
   "cell_type": "code",
   "execution_count": 20,
   "id": "727b8fb8",
   "metadata": {},
   "outputs": [
    {
     "name": "stdout",
     "output_type": "stream",
     "text": [
      "Benchmark MAE on the test set : 0.7639\n"
     ]
    }
   ],
   "source": [
    "# Benchmark prediction\n",
    "y_pred = np.mean([_ for elt in y_train for _ in elt])\n",
    "bench_res = np.mean(np.abs([_-y_pred for elt in y_test for _ in elt]))\n",
    "\n",
    "print(f'Benchmark MAE on the test set : {bench_res:.4f}')"
   ]
  },
  {
   "cell_type": "code",
   "execution_count": 21,
   "id": "0ae3265e",
   "metadata": {},
   "outputs": [
    {
     "name": "stdout",
     "output_type": "stream",
     "text": [
      "Model: \"sequential\"\n",
      "_________________________________________________________________\n",
      "Layer (type)                 Output Shape              Param #   \n",
      "=================================================================\n",
      "masking (Masking)            (None, 50, 3)             0         \n",
      "_________________________________________________________________\n",
      "simple_rnn (SimpleRNN)       (None, 50, 20)            480       \n",
      "_________________________________________________________________\n",
      "simple_rnn_1 (SimpleRNN)     (None, 50, 10)            310       \n",
      "_________________________________________________________________\n",
      "dense (Dense)                (None, 50, 5)             55        \n",
      "_________________________________________________________________\n",
      "dense_1 (Dense)              (None, 50, 1)             6         \n",
      "=================================================================\n",
      "Total params: 851\n",
      "Trainable params: 851\n",
      "Non-trainable params: 0\n",
      "_________________________________________________________________\n"
     ]
    }
   ],
   "source": [
    "def init_model():\n",
    "    \n",
    "    model = models.Sequential()\n",
    "    model.add(layers.Masking(mask_value=-1000., input_shape=(50,3)))\n",
    "    model.add(layers.SimpleRNN(20, return_sequences=True, activation='tanh'))\n",
    "    model.add(layers.SimpleRNN(10, return_sequences=True, activation='tanh'))\n",
    "    model.add(layers.Dense(5, activation='relu'))\n",
    "    model.add(layers.Dense(1, activation='linear'))\n",
    "    \n",
    "    model.compile(loss='mse', \n",
    "                  optimizer=RMSprop(learning_rate=0.0003), \n",
    "                  metrics=['mae'])\n",
    "    \n",
    "    return model\n",
    "\n",
    "init_model().summary()"
   ]
  },
  {
   "cell_type": "code",
   "execution_count": 38,
   "id": "8f5088e6",
   "metadata": {},
   "outputs": [],
   "source": [
    "from tensorflow.keras.callbacks import EarlyStopping\n",
    "\n",
    "es=EarlyStopping(patience=10,restore_best_weights=True)\n",
    "model = init_model()\n",
    "\n",
    "\n",
    "\n",
    "history = model.fit(X_train_pad, y_train_pad,\n",
    "            validation_split=0.2,\n",
    "            epochs=1000, \n",
    "            batch_size=32,\n",
    "            verbose=0,\n",
    "            callbacks=[es])"
   ]
  },
  {
   "cell_type": "code",
   "execution_count": 39,
   "id": "fb660c6b",
   "metadata": {},
   "outputs": [
    {
     "data": {
      "text/plain": [
       "[<matplotlib.lines.Line2D at 0x1702931f0>]"
      ]
     },
     "execution_count": 39,
     "metadata": {},
     "output_type": "execute_result"
    },
    {
     "data": {
      "image/png": "[encoded data removed]",
      "text/plain": [
       "<Figure size 432x288 with 1 Axes>"
      ]
     },
     "metadata": {
      "needs_background": "light"
     },
     "output_type": "display_data"
    }
   ],
   "source": [
    "plt.plot(history.history['mae'])\n",
    "plt.plot(history.history['val_mae'])"
   ]
  },
  {
   "cell_type": "code",
   "execution_count": 40,
   "id": "881a1469",
   "metadata": {},
   "outputs": [
    {
     "name": "stdout",
     "output_type": "stream",
     "text": [
      "MAE on the test set : 0.1780\n"
     ]
    }
   ],
   "source": [
    "res = model.evaluate(X_test_pad, y_test_pad, verbose=0)\n",
    "\n",
    "print(f'MAE on the test set : {res[1]:.4f}')"
   ]
  },
  {
   "cell_type": "code",
   "execution_count": 41,
   "id": "a2ca56d1",
   "metadata": {},
   "outputs": [
    {
     "data": {
      "image/png": "[encoded data removed]",
      "text/plain": [
       "<Figure size 1224x216 with 5 Axes>"
      ]
     },
     "metadata": {
      "needs_background": "light"
     },
     "output_type": "display_data"
    }
   ],
   "source": [
    "#true sequences vs predictions\n",
    "plt.figure(figsize=(17,3))\n",
    "for id_plot, id_seq in enumerate(np.random.randint(low=0,high=len(X_test),size=5)):\n",
    "    plt.subplot(1, 5, id_plot+1)\n",
    "    plt.plot(y_test[id_seq], label='truth')\n",
    "    plt.plot(model.predict(X_test_pad)[id_seq], label='pred')\n",
    "    plt.ylim(ymin=0)\n",
    "plt.legend();"
   ]
  },
  {
   "cell_type": "code",
   "execution_count": null,
   "id": "0ec44426",
   "metadata": {},
   "outputs": [],
   "source": []
  }
 ],
 "metadata": {
  "interpreter": {
   "hash": "ebc7675df7c347d8de1a45157daf950eecd0ed3b17a19a71f2cee9d918969706"
  },
  "kernelspec": {
   "display_name": "Python 3",
   "language": "python",
   "name": "python3"
  },
  "language_info": {
   "codemirror_mode": {
    "name": "ipython",
    "version": 3
   },
   "file_extension": ".py",
   "mimetype": "text/x-python",
   "name": "python",
   "nbconvert_exporter": "python",
   "pygments_lexer": "ipython3",
   "version": "3.8.6"
  },
  "toc": {
   "base_numbering": 1,
   "nav_menu": {},
   "number_sections": true,
   "sideBar": true,
   "skip_h1_title": false,
   "title_cell": "Table of Contents",
   "title_sidebar": "Contents",
   "toc_cell": false,
   "toc_position": {},
   "toc_section_display": true,
   "toc_window_display": false
  }
 },
 "nbformat": 4,
 "nbformat_minor": 5
}
