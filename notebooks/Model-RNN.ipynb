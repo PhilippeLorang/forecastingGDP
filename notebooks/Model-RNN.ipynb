{
 "cells": [
  {
   "cell_type": "code",
   "execution_count": 25,
   "id": "012b2796",
   "metadata": {},
   "outputs": [
    {
     "name": "stdout",
     "output_type": "stream",
     "text": [
      "The autoreload extension is already loaded. To reload it, use:\n",
      "  %reload_ext autoreload\n"
     ]
    }
   ],
   "source": [
    "%load_ext autoreload\n",
    "%autoreload 2\n",
    "\n",
    "import pandas as pd\n",
    "import numpy as np\n",
    "import sys\n",
    "import matplotlib.pyplot as plt\n",
    "import seaborn as sns\n",
    "from fredapi import Fred\n",
    "from tensorflow.keras.preprocessing.sequence import pad_sequences\n",
    "from tensorflow.keras import models\n",
    "from tensorflow.keras import layers\n",
    "from tensorflow.keras.optimizers import RMSprop\n",
    "from forecastingGDP.data import get_data,get_series_info,clear_cache\n",
    "from sklearn.preprocessing import MinMaxScaler,StandardScaler\n",
    "from scipy.interpolate import interp1d\n",
    "from sklearn.model_selection import TimeSeriesSplit"
   ]
  },
  {
   "cell_type": "markdown",
   "id": "000f06de",
   "metadata": {},
   "source": [
    "### Data"
   ]
  },
  {
   "cell_type": "code",
   "execution_count": 26,
   "id": "02550255",
   "metadata": {},
   "outputs": [],
   "source": [
    "df_m = get_data(frequency='MS', use_cache=True)\n",
    "df_q = get_data('QS-Jan', use_cache=True)\n",
    "df_w = get_data('W-Sun', use_cache=True)"
   ]
  },
  {
   "cell_type": "code",
   "execution_count": 27,
   "id": "35abfe8c",
   "metadata": {},
   "outputs": [],
   "source": [
    "df_w=df_w.loc[df_w.index>='1971-01']\n",
    "df_w=df_w.loc[df_w.index<='2020-01']"
   ]
  },
  {
   "cell_type": "code",
   "execution_count": 28,
   "id": "6e1072e7",
   "metadata": {},
   "outputs": [],
   "source": [
    "data_info=[]\n",
    "for i in df_w.columns:\n",
    "    data_info.append(get_series_info(i))   "
   ]
  },
  {
   "cell_type": "code",
   "execution_count": 91,
   "id": "c57c72d5",
   "metadata": {},
   "outputs": [
    {
     "data": {
      "text/html": [
       "<div>\n",
       "<style scoped>\n",
       "    .dataframe tbody tr th:only-of-type {\n",
       "        vertical-align: middle;\n",
       "    }\n",
       "\n",
       "    .dataframe tbody tr th {\n",
       "        vertical-align: top;\n",
       "    }\n",
       "\n",
       "    .dataframe thead th {\n",
       "        text-align: right;\n",
       "    }\n",
       "</style>\n",
       "<table border=\"1\" class=\"dataframe\">\n",
       "  <thead>\n",
       "    <tr style=\"text-align: right;\">\n",
       "      <th></th>\n",
       "      <th>GDPC1</th>\n",
       "      <th>INDPRO</th>\n",
       "      <th>TCU</th>\n",
       "      <th>CFNAI</th>\n",
       "      <th>DSPIC96</th>\n",
       "      <th>PCE</th>\n",
       "      <th>U1RATE</th>\n",
       "      <th>CE16OV</th>\n",
       "      <th>PAYEMS</th>\n",
       "      <th>CPIAUCSL</th>\n",
       "      <th>PCEPILFE</th>\n",
       "      <th>PPIACO</th>\n",
       "      <th>IMPGSC1</th>\n",
       "      <th>EXPGSC1</th>\n",
       "      <th>GS10</th>\n",
       "    </tr>\n",
       "  </thead>\n",
       "  <tbody>\n",
       "    <tr>\n",
       "      <th>2019-12-01</th>\n",
       "      <td>-0.000978</td>\n",
       "      <td>101.61790</td>\n",
       "      <td>76.5336</td>\n",
       "      <td>-0.280</td>\n",
       "      <td>14960.2</td>\n",
       "      <td>14796.30</td>\n",
       "      <td>1.2</td>\n",
       "      <td>158735.0</td>\n",
       "      <td>151919.0</td>\n",
       "      <td>258.2030</td>\n",
       "      <td>112.7530</td>\n",
       "      <td>199.00</td>\n",
       "      <td>3335.503077</td>\n",
       "      <td>2519.232462</td>\n",
       "      <td>1.86</td>\n",
       "    </tr>\n",
       "    <tr>\n",
       "      <th>2019-12-08</th>\n",
       "      <td>-0.000979</td>\n",
       "      <td>101.51268</td>\n",
       "      <td>76.4517</td>\n",
       "      <td>-0.244</td>\n",
       "      <td>14982.2</td>\n",
       "      <td>14813.14</td>\n",
       "      <td>1.2</td>\n",
       "      <td>158719.8</td>\n",
       "      <td>151982.0</td>\n",
       "      <td>258.2998</td>\n",
       "      <td>112.7922</td>\n",
       "      <td>199.06</td>\n",
       "      <td>3325.024462</td>\n",
       "      <td>2514.405769</td>\n",
       "      <td>1.84</td>\n",
       "    </tr>\n",
       "    <tr>\n",
       "      <th>2019-12-15</th>\n",
       "      <td>-0.000980</td>\n",
       "      <td>101.40746</td>\n",
       "      <td>76.3698</td>\n",
       "      <td>-0.208</td>\n",
       "      <td>15004.2</td>\n",
       "      <td>14829.98</td>\n",
       "      <td>1.2</td>\n",
       "      <td>158704.6</td>\n",
       "      <td>152045.0</td>\n",
       "      <td>258.3966</td>\n",
       "      <td>112.8314</td>\n",
       "      <td>199.12</td>\n",
       "      <td>3314.545846</td>\n",
       "      <td>2509.579077</td>\n",
       "      <td>1.82</td>\n",
       "    </tr>\n",
       "    <tr>\n",
       "      <th>2019-12-22</th>\n",
       "      <td>-0.000981</td>\n",
       "      <td>101.30224</td>\n",
       "      <td>76.2879</td>\n",
       "      <td>-0.172</td>\n",
       "      <td>15026.2</td>\n",
       "      <td>14846.82</td>\n",
       "      <td>1.2</td>\n",
       "      <td>158689.4</td>\n",
       "      <td>152108.0</td>\n",
       "      <td>258.4934</td>\n",
       "      <td>112.8706</td>\n",
       "      <td>199.18</td>\n",
       "      <td>3304.067231</td>\n",
       "      <td>2504.752385</td>\n",
       "      <td>1.80</td>\n",
       "    </tr>\n",
       "    <tr>\n",
       "      <th>2019-12-29</th>\n",
       "      <td>-0.000982</td>\n",
       "      <td>101.19702</td>\n",
       "      <td>76.2060</td>\n",
       "      <td>-0.136</td>\n",
       "      <td>15048.2</td>\n",
       "      <td>14863.66</td>\n",
       "      <td>1.2</td>\n",
       "      <td>158674.2</td>\n",
       "      <td>152171.0</td>\n",
       "      <td>258.5902</td>\n",
       "      <td>112.9098</td>\n",
       "      <td>199.24</td>\n",
       "      <td>3293.588615</td>\n",
       "      <td>2499.925692</td>\n",
       "      <td>1.78</td>\n",
       "    </tr>\n",
       "  </tbody>\n",
       "</table>\n",
       "</div>"
      ],
      "text/plain": [
       "               GDPC1     INDPRO      TCU  CFNAI  DSPIC96       PCE  U1RATE  \\\n",
       "2019-12-01 -0.000978  101.61790  76.5336 -0.280  14960.2  14796.30     1.2   \n",
       "2019-12-08 -0.000979  101.51268  76.4517 -0.244  14982.2  14813.14     1.2   \n",
       "2019-12-15 -0.000980  101.40746  76.3698 -0.208  15004.2  14829.98     1.2   \n",
       "2019-12-22 -0.000981  101.30224  76.2879 -0.172  15026.2  14846.82     1.2   \n",
       "2019-12-29 -0.000982  101.19702  76.2060 -0.136  15048.2  14863.66     1.2   \n",
       "\n",
       "              CE16OV    PAYEMS  CPIAUCSL  PCEPILFE  PPIACO      IMPGSC1  \\\n",
       "2019-12-01  158735.0  151919.0  258.2030  112.7530  199.00  3335.503077   \n",
       "2019-12-08  158719.8  151982.0  258.2998  112.7922  199.06  3325.024462   \n",
       "2019-12-15  158704.6  152045.0  258.3966  112.8314  199.12  3314.545846   \n",
       "2019-12-22  158689.4  152108.0  258.4934  112.8706  199.18  3304.067231   \n",
       "2019-12-29  158674.2  152171.0  258.5902  112.9098  199.24  3293.588615   \n",
       "\n",
       "                EXPGSC1  GS10  \n",
       "2019-12-01  2519.232462  1.86  \n",
       "2019-12-08  2514.405769  1.84  \n",
       "2019-12-15  2509.579077  1.82  \n",
       "2019-12-22  2504.752385  1.80  \n",
       "2019-12-29  2499.925692  1.78  "
      ]
     },
     "execution_count": 91,
     "metadata": {},
     "output_type": "execute_result"
    }
   ],
   "source": [
    "df_w.tail()"
   ]
  },
  {
   "cell_type": "code",
   "execution_count": 30,
   "id": "647aed01",
   "metadata": {},
   "outputs": [],
   "source": [
    "data_info=pd.DataFrame(data_info)\n",
    "data_info=data_info.set_index('id')"
   ]
  },
  {
   "cell_type": "code",
   "execution_count": 31,
   "id": "4685f8d0",
   "metadata": {},
   "outputs": [
    {
     "data": {
      "text/html": [
       "<div>\n",
       "<style scoped>\n",
       "    .dataframe tbody tr th:only-of-type {\n",
       "        vertical-align: middle;\n",
       "    }\n",
       "\n",
       "    .dataframe tbody tr th {\n",
       "        vertical-align: top;\n",
       "    }\n",
       "\n",
       "    .dataframe thead th {\n",
       "        text-align: right;\n",
       "    }\n",
       "</style>\n",
       "<table border=\"1\" class=\"dataframe\">\n",
       "  <thead>\n",
       "    <tr style=\"text-align: right;\">\n",
       "      <th></th>\n",
       "      <th>observation_start</th>\n",
       "      <th>observation_end</th>\n",
       "      <th>frequency</th>\n",
       "      <th>percent_missing</th>\n",
       "    </tr>\n",
       "  </thead>\n",
       "  <tbody>\n",
       "    <tr>\n",
       "      <th>ATLSBUSRGEP</th>\n",
       "      <td>2016-12-01</td>\n",
       "      <td>2021-06-01</td>\n",
       "      <td>M</td>\n",
       "      <td>93.703559</td>\n",
       "    </tr>\n",
       "    <tr>\n",
       "      <th>SP500</th>\n",
       "      <td>2011-07-05</td>\n",
       "      <td>2021-07-02</td>\n",
       "      <td>D</td>\n",
       "      <td>82.675010</td>\n",
       "    </tr>\n",
       "    <tr>\n",
       "      <th>DTWEXAFEGS</th>\n",
       "      <td>2006-01-02</td>\n",
       "      <td>2021-06-25</td>\n",
       "      <td>D</td>\n",
       "      <td>71.450919</td>\n",
       "    </tr>\n",
       "    <tr>\n",
       "      <th>BAMLH0A0HYM2</th>\n",
       "      <td>1996-12-31</td>\n",
       "      <td>2021-07-01</td>\n",
       "      <td>D</td>\n",
       "      <td>53.070004</td>\n",
       "    </tr>\n",
       "    <tr>\n",
       "      <th>LNU05026648</th>\n",
       "      <td>1994-01-01</td>\n",
       "      <td>2021-06-01</td>\n",
       "      <td>M</td>\n",
       "      <td>46.929996</td>\n",
       "    </tr>\n",
       "    <tr>\n",
       "      <th>DGORDER</th>\n",
       "      <td>1992-02-01</td>\n",
       "      <td>2021-05-01</td>\n",
       "      <td>M</td>\n",
       "      <td>43.019163</td>\n",
       "    </tr>\n",
       "    <tr>\n",
       "      <th>MARTSMPCSM44000USS</th>\n",
       "      <td>1992-02-01</td>\n",
       "      <td>2021-05-01</td>\n",
       "      <td>M</td>\n",
       "      <td>43.019163</td>\n",
       "    </tr>\n",
       "    <tr>\n",
       "      <th>AMTMNO</th>\n",
       "      <td>1992-02-01</td>\n",
       "      <td>2021-05-01</td>\n",
       "      <td>M</td>\n",
       "      <td>43.019163</td>\n",
       "    </tr>\n",
       "    <tr>\n",
       "      <th>VIXCLS</th>\n",
       "      <td>1990-01-02</td>\n",
       "      <td>2021-07-01</td>\n",
       "      <td>D</td>\n",
       "      <td>38.795463</td>\n",
       "    </tr>\n",
       "    <tr>\n",
       "      <th>IMPCH</th>\n",
       "      <td>1985-01-01</td>\n",
       "      <td>2021-05-01</td>\n",
       "      <td>M</td>\n",
       "      <td>28.588189</td>\n",
       "    </tr>\n",
       "    <tr>\n",
       "      <th>GS2</th>\n",
       "      <td>1976-06-01</td>\n",
       "      <td>2021-06-01</td>\n",
       "      <td>M</td>\n",
       "      <td>11.067657</td>\n",
       "    </tr>\n",
       "    <tr>\n",
       "      <th>UMCSENT</th>\n",
       "      <td>1952-11-01</td>\n",
       "      <td>2021-05-01</td>\n",
       "      <td>M</td>\n",
       "      <td>0.195542</td>\n",
       "    </tr>\n",
       "    <tr>\n",
       "      <th>WILL5000INDFC</th>\n",
       "      <td>1970-12-31</td>\n",
       "      <td>2021-07-01</td>\n",
       "      <td>D</td>\n",
       "      <td>0.156433</td>\n",
       "    </tr>\n",
       "    <tr>\n",
       "      <th>IMPGSC1</th>\n",
       "      <td>1947-01-01</td>\n",
       "      <td>2021-01-01</td>\n",
       "      <td>Q</td>\n",
       "      <td>0.000000</td>\n",
       "    </tr>\n",
       "    <tr>\n",
       "      <th>GS10</th>\n",
       "      <td>1953-04-01</td>\n",
       "      <td>2021-06-01</td>\n",
       "      <td>M</td>\n",
       "      <td>0.000000</td>\n",
       "    </tr>\n",
       "    <tr>\n",
       "      <th>TCU</th>\n",
       "      <td>1967-01-01</td>\n",
       "      <td>2021-05-01</td>\n",
       "      <td>M</td>\n",
       "      <td>0.000000</td>\n",
       "    </tr>\n",
       "    <tr>\n",
       "      <th>EXPGSC1</th>\n",
       "      <td>1947-01-01</td>\n",
       "      <td>2021-01-01</td>\n",
       "      <td>Q</td>\n",
       "      <td>0.000000</td>\n",
       "    </tr>\n",
       "    <tr>\n",
       "      <th>PCEPILFE</th>\n",
       "      <td>1959-01-01</td>\n",
       "      <td>2021-05-01</td>\n",
       "      <td>M</td>\n",
       "      <td>0.000000</td>\n",
       "    </tr>\n",
       "    <tr>\n",
       "      <th>PPIACO</th>\n",
       "      <td>1913-01-01</td>\n",
       "      <td>2021-05-01</td>\n",
       "      <td>M</td>\n",
       "      <td>0.000000</td>\n",
       "    </tr>\n",
       "    <tr>\n",
       "      <th>CFNAI</th>\n",
       "      <td>1967-03-01</td>\n",
       "      <td>2021-05-01</td>\n",
       "      <td>M</td>\n",
       "      <td>0.000000</td>\n",
       "    </tr>\n",
       "    <tr>\n",
       "      <th>CPIAUCSL</th>\n",
       "      <td>1947-01-01</td>\n",
       "      <td>2021-05-01</td>\n",
       "      <td>M</td>\n",
       "      <td>0.000000</td>\n",
       "    </tr>\n",
       "    <tr>\n",
       "      <th>INDPRO</th>\n",
       "      <td>1919-01-01</td>\n",
       "      <td>2021-05-01</td>\n",
       "      <td>M</td>\n",
       "      <td>0.000000</td>\n",
       "    </tr>\n",
       "    <tr>\n",
       "      <th>PAYEMS</th>\n",
       "      <td>1939-01-01</td>\n",
       "      <td>2021-06-01</td>\n",
       "      <td>M</td>\n",
       "      <td>0.000000</td>\n",
       "    </tr>\n",
       "    <tr>\n",
       "      <th>CE16OV</th>\n",
       "      <td>1948-01-01</td>\n",
       "      <td>2021-06-01</td>\n",
       "      <td>M</td>\n",
       "      <td>0.000000</td>\n",
       "    </tr>\n",
       "    <tr>\n",
       "      <th>U1RATE</th>\n",
       "      <td>1948-01-01</td>\n",
       "      <td>2021-06-01</td>\n",
       "      <td>M</td>\n",
       "      <td>0.000000</td>\n",
       "    </tr>\n",
       "    <tr>\n",
       "      <th>PCE</th>\n",
       "      <td>1959-01-01</td>\n",
       "      <td>2021-05-01</td>\n",
       "      <td>M</td>\n",
       "      <td>0.000000</td>\n",
       "    </tr>\n",
       "    <tr>\n",
       "      <th>DSPIC96</th>\n",
       "      <td>1959-01-01</td>\n",
       "      <td>2021-05-01</td>\n",
       "      <td>M</td>\n",
       "      <td>0.000000</td>\n",
       "    </tr>\n",
       "    <tr>\n",
       "      <th>GDPC1</th>\n",
       "      <td>1947-01-01</td>\n",
       "      <td>2021-01-01</td>\n",
       "      <td>Q</td>\n",
       "      <td>0.000000</td>\n",
       "    </tr>\n",
       "  </tbody>\n",
       "</table>\n",
       "</div>"
      ],
      "text/plain": [
       "                   observation_start observation_end frequency  \\\n",
       "ATLSBUSRGEP               2016-12-01      2021-06-01         M   \n",
       "SP500                     2011-07-05      2021-07-02         D   \n",
       "DTWEXAFEGS                2006-01-02      2021-06-25         D   \n",
       "BAMLH0A0HYM2              1996-12-31      2021-07-01         D   \n",
       "LNU05026648               1994-01-01      2021-06-01         M   \n",
       "DGORDER                   1992-02-01      2021-05-01         M   \n",
       "MARTSMPCSM44000USS        1992-02-01      2021-05-01         M   \n",
       "AMTMNO                    1992-02-01      2021-05-01         M   \n",
       "VIXCLS                    1990-01-02      2021-07-01         D   \n",
       "IMPCH                     1985-01-01      2021-05-01         M   \n",
       "GS2                       1976-06-01      2021-06-01         M   \n",
       "UMCSENT                   1952-11-01      2021-05-01         M   \n",
       "WILL5000INDFC             1970-12-31      2021-07-01         D   \n",
       "IMPGSC1                   1947-01-01      2021-01-01         Q   \n",
       "GS10                      1953-04-01      2021-06-01         M   \n",
       "TCU                       1967-01-01      2021-05-01         M   \n",
       "EXPGSC1                   1947-01-01      2021-01-01         Q   \n",
       "PCEPILFE                  1959-01-01      2021-05-01         M   \n",
       "PPIACO                    1913-01-01      2021-05-01         M   \n",
       "CFNAI                     1967-03-01      2021-05-01         M   \n",
       "CPIAUCSL                  1947-01-01      2021-05-01         M   \n",
       "INDPRO                    1919-01-01      2021-05-01         M   \n",
       "PAYEMS                    1939-01-01      2021-06-01         M   \n",
       "CE16OV                    1948-01-01      2021-06-01         M   \n",
       "U1RATE                    1948-01-01      2021-06-01         M   \n",
       "PCE                       1959-01-01      2021-05-01         M   \n",
       "DSPIC96                   1959-01-01      2021-05-01         M   \n",
       "GDPC1                     1947-01-01      2021-01-01         Q   \n",
       "\n",
       "                    percent_missing  \n",
       "ATLSBUSRGEP               93.703559  \n",
       "SP500                     82.675010  \n",
       "DTWEXAFEGS                71.450919  \n",
       "BAMLH0A0HYM2              53.070004  \n",
       "LNU05026648               46.929996  \n",
       "DGORDER                   43.019163  \n",
       "MARTSMPCSM44000USS        43.019163  \n",
       "AMTMNO                    43.019163  \n",
       "VIXCLS                    38.795463  \n",
       "IMPCH                     28.588189  \n",
       "GS2                       11.067657  \n",
       "UMCSENT                    0.195542  \n",
       "WILL5000INDFC              0.156433  \n",
       "IMPGSC1                    0.000000  \n",
       "GS10                       0.000000  \n",
       "TCU                        0.000000  \n",
       "EXPGSC1                    0.000000  \n",
       "PCEPILFE                   0.000000  \n",
       "PPIACO                     0.000000  \n",
       "CFNAI                      0.000000  \n",
       "CPIAUCSL                   0.000000  \n",
       "INDPRO                     0.000000  \n",
       "PAYEMS                     0.000000  \n",
       "CE16OV                     0.000000  \n",
       "U1RATE                     0.000000  \n",
       "PCE                        0.000000  \n",
       "DSPIC96                    0.000000  \n",
       "GDPC1                      0.000000  "
      ]
     },
     "execution_count": 31,
     "metadata": {},
     "output_type": "execute_result"
    }
   ],
   "source": [
    "#Info and Missing Values %\n",
    "percent_missing = df_w.isnull().sum() * 100 / len(df_w)\n",
    "observation_start=data_info['observation_start']\n",
    "observation_end=data_info['observation_end']\n",
    "frequency=data_info['frequency_short']\n",
    "\n",
    "df_info = pd.DataFrame({\n",
    "                        'observation_start':observation_start,\n",
    "                        'observation_end':observation_end,\n",
    "                        'frequency':frequency,\n",
    "                        'percent_missing': percent_missing})\n",
    "\n",
    "df_info=df_info.sort_values('percent_missing',ascending=False)\n",
    "df_info"
   ]
  },
  {
   "cell_type": "code",
   "execution_count": 32,
   "id": "2fd3a4a8",
   "metadata": {},
   "outputs": [],
   "source": [
    "for i in df_w.columns:\n",
    "    if df_w[i].isna().sum()!=0:\n",
    "        df_w=df_w.drop(columns=i)"
   ]
  },
  {
   "cell_type": "code",
   "execution_count": 33,
   "id": "63d1c832",
   "metadata": {},
   "outputs": [],
   "source": [
    "#Convert GDP to GDP change %\n",
    "df_w['GDPC1']=df_w['GDPC1'].pct_change()"
   ]
  },
  {
   "cell_type": "code",
   "execution_count": 34,
   "id": "467adb2c",
   "metadata": {},
   "outputs": [],
   "source": [
    "df_w=df_w.dropna()"
   ]
  },
  {
   "cell_type": "code",
   "execution_count": 35,
   "id": "9ec8b8f1",
   "metadata": {},
   "outputs": [
    {
     "data": {
      "text/html": [
       "<div>\n",
       "<style scoped>\n",
       "    .dataframe tbody tr th:only-of-type {\n",
       "        vertical-align: middle;\n",
       "    }\n",
       "\n",
       "    .dataframe tbody tr th {\n",
       "        vertical-align: top;\n",
       "    }\n",
       "\n",
       "    .dataframe thead th {\n",
       "        text-align: right;\n",
       "    }\n",
       "</style>\n",
       "<table border=\"1\" class=\"dataframe\">\n",
       "  <thead>\n",
       "    <tr style=\"text-align: right;\">\n",
       "      <th></th>\n",
       "      <th>observation_start</th>\n",
       "      <th>observation_end</th>\n",
       "      <th>frequency</th>\n",
       "      <th>percent_missing</th>\n",
       "    </tr>\n",
       "  </thead>\n",
       "  <tbody>\n",
       "    <tr>\n",
       "      <th>CE16OV</th>\n",
       "      <td>1948-01-01</td>\n",
       "      <td>2021-06-01</td>\n",
       "      <td>M</td>\n",
       "      <td>0.0</td>\n",
       "    </tr>\n",
       "    <tr>\n",
       "      <th>CFNAI</th>\n",
       "      <td>1967-03-01</td>\n",
       "      <td>2021-05-01</td>\n",
       "      <td>M</td>\n",
       "      <td>0.0</td>\n",
       "    </tr>\n",
       "    <tr>\n",
       "      <th>CPIAUCSL</th>\n",
       "      <td>1947-01-01</td>\n",
       "      <td>2021-05-01</td>\n",
       "      <td>M</td>\n",
       "      <td>0.0</td>\n",
       "    </tr>\n",
       "    <tr>\n",
       "      <th>DSPIC96</th>\n",
       "      <td>1959-01-01</td>\n",
       "      <td>2021-05-01</td>\n",
       "      <td>M</td>\n",
       "      <td>0.0</td>\n",
       "    </tr>\n",
       "    <tr>\n",
       "      <th>EXPGSC1</th>\n",
       "      <td>1947-01-01</td>\n",
       "      <td>2021-01-01</td>\n",
       "      <td>Q</td>\n",
       "      <td>0.0</td>\n",
       "    </tr>\n",
       "    <tr>\n",
       "      <th>GDPC1</th>\n",
       "      <td>1947-01-01</td>\n",
       "      <td>2021-01-01</td>\n",
       "      <td>Q</td>\n",
       "      <td>0.0</td>\n",
       "    </tr>\n",
       "    <tr>\n",
       "      <th>GS10</th>\n",
       "      <td>1953-04-01</td>\n",
       "      <td>2021-06-01</td>\n",
       "      <td>M</td>\n",
       "      <td>0.0</td>\n",
       "    </tr>\n",
       "    <tr>\n",
       "      <th>IMPGSC1</th>\n",
       "      <td>1947-01-01</td>\n",
       "      <td>2021-01-01</td>\n",
       "      <td>Q</td>\n",
       "      <td>0.0</td>\n",
       "    </tr>\n",
       "    <tr>\n",
       "      <th>INDPRO</th>\n",
       "      <td>1919-01-01</td>\n",
       "      <td>2021-05-01</td>\n",
       "      <td>M</td>\n",
       "      <td>0.0</td>\n",
       "    </tr>\n",
       "    <tr>\n",
       "      <th>PAYEMS</th>\n",
       "      <td>1939-01-01</td>\n",
       "      <td>2021-06-01</td>\n",
       "      <td>M</td>\n",
       "      <td>0.0</td>\n",
       "    </tr>\n",
       "    <tr>\n",
       "      <th>PCE</th>\n",
       "      <td>1959-01-01</td>\n",
       "      <td>2021-05-01</td>\n",
       "      <td>M</td>\n",
       "      <td>0.0</td>\n",
       "    </tr>\n",
       "    <tr>\n",
       "      <th>PCEPILFE</th>\n",
       "      <td>1959-01-01</td>\n",
       "      <td>2021-05-01</td>\n",
       "      <td>M</td>\n",
       "      <td>0.0</td>\n",
       "    </tr>\n",
       "    <tr>\n",
       "      <th>PPIACO</th>\n",
       "      <td>1913-01-01</td>\n",
       "      <td>2021-05-01</td>\n",
       "      <td>M</td>\n",
       "      <td>0.0</td>\n",
       "    </tr>\n",
       "    <tr>\n",
       "      <th>TCU</th>\n",
       "      <td>1967-01-01</td>\n",
       "      <td>2021-05-01</td>\n",
       "      <td>M</td>\n",
       "      <td>0.0</td>\n",
       "    </tr>\n",
       "    <tr>\n",
       "      <th>U1RATE</th>\n",
       "      <td>1948-01-01</td>\n",
       "      <td>2021-06-01</td>\n",
       "      <td>M</td>\n",
       "      <td>0.0</td>\n",
       "    </tr>\n",
       "  </tbody>\n",
       "</table>\n",
       "</div>"
      ],
      "text/plain": [
       "         observation_start observation_end frequency  percent_missing\n",
       "CE16OV          1948-01-01      2021-06-01         M              0.0\n",
       "CFNAI           1967-03-01      2021-05-01         M              0.0\n",
       "CPIAUCSL        1947-01-01      2021-05-01         M              0.0\n",
       "DSPIC96         1959-01-01      2021-05-01         M              0.0\n",
       "EXPGSC1         1947-01-01      2021-01-01         Q              0.0\n",
       "GDPC1           1947-01-01      2021-01-01         Q              0.0\n",
       "GS10            1953-04-01      2021-06-01         M              0.0\n",
       "IMPGSC1         1947-01-01      2021-01-01         Q              0.0\n",
       "INDPRO          1919-01-01      2021-05-01         M              0.0\n",
       "PAYEMS          1939-01-01      2021-06-01         M              0.0\n",
       "PCE             1959-01-01      2021-05-01         M              0.0\n",
       "PCEPILFE        1959-01-01      2021-05-01         M              0.0\n",
       "PPIACO          1913-01-01      2021-05-01         M              0.0\n",
       "TCU             1967-01-01      2021-05-01         M              0.0\n",
       "U1RATE          1948-01-01      2021-06-01         M              0.0"
      ]
     },
     "execution_count": 35,
     "metadata": {},
     "output_type": "execute_result"
    }
   ],
   "source": [
    "#Info and Missing Values %\n",
    "percent_missing = df_w.isnull().sum() * 100 / len(df_w)\n",
    "observation_start=data_info['observation_start']\n",
    "observation_end=data_info['observation_end']\n",
    "frequency=data_info['frequency_short']\n",
    "\n",
    "df_info = pd.DataFrame({\n",
    "                        'observation_start':observation_start,\n",
    "                        'observation_end':observation_end,\n",
    "                        'frequency':frequency,\n",
    "                        'percent_missing': percent_missing})\n",
    "\n",
    "df_info=df_info.sort_values('percent_missing',ascending=False)\n",
    "df_info.dropna()"
   ]
  },
  {
   "cell_type": "code",
   "execution_count": 36,
   "id": "955cc689",
   "metadata": {},
   "outputs": [
    {
     "name": "stdout",
     "output_type": "stream",
     "text": [
      "Start: 1971-01-10 00:00:00\n",
      "End: 2019-12-29 00:00:00\n",
      "Shape: (2556, 15)\n"
     ]
    }
   ],
   "source": [
    "#Starting and ending date\n",
    "print(f'Start: {df_w.index[0]}')\n",
    "print(f'End: {df_w.index[-1]}')\n",
    "print(f'Shape: {df_w.shape}')"
   ]
  },
  {
   "cell_type": "code",
   "execution_count": 37,
   "id": "ac3eed77",
   "metadata": {},
   "outputs": [
    {
     "data": {
      "image/png": "[encoded data removed]",
      "text/plain": [
       "<Figure size 432x288 with 1 Axes>"
      ]
     },
     "metadata": {
      "needs_background": "light"
     },
     "output_type": "display_data"
    }
   ],
   "source": [
    "#Interpolation test on GDPC1\n",
    "X=np.arange(0, len(df_q))\n",
    "y=df_q['GDPC1'].dropna()\n",
    "f = interp1d(X, y)\n",
    "xnew = np.arange(0, len(df_q)-1, (1/3))\n",
    "ynew = f(xnew)\n",
    "plt.plot(X, y, 'o', xnew, ynew, '-')\n",
    "plt.show()"
   ]
  },
  {
   "cell_type": "code",
   "execution_count": 38,
   "id": "62e23dd2",
   "metadata": {},
   "outputs": [],
   "source": [
    "def interpolation():\n",
    "    \n",
    "    '''Create a linear interpolation of missing data'''\n",
    "    for i in df_info.index:\n",
    "        if df_info.loc[i]['frequency']=='Q':\n",
    "            \n",
    "            X=np.arange(0, len(data[i].dropna()))\n",
    "            y=data[i].dropna()\n",
    "            f = interp1d(X, y)\n",
    "            xnew = np.arange(0, len(data[i].dropna())-1, (1/3))\n",
    "            ynew = f(xnew)\n",
    "            df_test.drop(columns=[i])\n",
    "            df_test[i]=ynew\n",
    "            \n",
    "    return df_test"
   ]
  },
  {
   "cell_type": "code",
   "execution_count": 39,
   "id": "f8bf0026",
   "metadata": {},
   "outputs": [
    {
     "data": {
      "image/png": "[encoded data removed]",
      "text/plain": [
       "<Figure size 864x720 with 2 Axes>"
      ]
     },
     "metadata": {
      "needs_background": "light"
     },
     "output_type": "display_data"
    }
   ],
   "source": [
    "corr = df_w.corr()\n",
    "f, ax = plt.subplots(figsize=(12, 10))\n",
    "mask = np.triu(np.ones_like(corr, dtype=bool))\n",
    "cmap = sns.diverging_palette(230, 20, as_cmap=True)\n",
    "sns.heatmap(corr, annot=True, mask = mask, cmap=cmap);"
   ]
  },
  {
   "cell_type": "markdown",
   "id": "82b6f6a7",
   "metadata": {},
   "source": [
    "#### df_train & df_test split"
   ]
  },
  {
   "cell_type": "code",
   "execution_count": 90,
   "id": "d98a2804",
   "metadata": {},
   "outputs": [
    {
     "data": {
      "text/plain": [
       "[<matplotlib.lines.Line2D at 0x165628310>]"
      ]
     },
     "execution_count": 90,
     "metadata": {},
     "output_type": "execute_result"
    },
    {
     "data": {
      "image/png": "[encoded data removed]",
      "text/plain": [
       "<Figure size 432x288 with 1 Axes>"
      ]
     },
     "metadata": {
      "needs_background": "light"
     },
     "output_type": "display_data"
    }
   ],
   "source": [
    "plt.plot(df_w['GDPC1'])"
   ]
  },
  {
   "cell_type": "code",
   "execution_count": 41,
   "id": "89559634",
   "metadata": {},
   "outputs": [],
   "source": [
    "# Time Serie split \n",
    "#We separate df into df_train and df_test such that the first 80% of the dataframe are in the training. \n",
    "#And the last 20% in the test set.\n",
    "\n",
    "len_ = int(0.6*df_w.shape[0])\n",
    "df_train = df_w[:len_]\n",
    "df_test = df_w[len_:len_+int(len(df_w[len_:])/2)]\n",
    "df_val=df_w[len_+int(len(df_w[len_:])/2):]\n",
    "assert df_train.shape[0]+df_test.shape[0]+df_val.shape[0] == df_w.shape[0]"
   ]
  },
  {
   "cell_type": "code",
   "execution_count": 42,
   "id": "7eb40fc3",
   "metadata": {},
   "outputs": [
    {
     "data": {
      "text/html": [
       "<div>\n",
       "<style scoped>\n",
       "    .dataframe tbody tr th:only-of-type {\n",
       "        vertical-align: middle;\n",
       "    }\n",
       "\n",
       "    .dataframe tbody tr th {\n",
       "        vertical-align: top;\n",
       "    }\n",
       "\n",
       "    .dataframe thead th {\n",
       "        text-align: right;\n",
       "    }\n",
       "</style>\n",
       "<table border=\"1\" class=\"dataframe\">\n",
       "  <thead>\n",
       "    <tr style=\"text-align: right;\">\n",
       "      <th></th>\n",
       "      <th>GDPC1</th>\n",
       "      <th>INDPRO</th>\n",
       "      <th>TCU</th>\n",
       "      <th>CFNAI</th>\n",
       "      <th>DSPIC96</th>\n",
       "      <th>PCE</th>\n",
       "      <th>U1RATE</th>\n",
       "      <th>CE16OV</th>\n",
       "      <th>PAYEMS</th>\n",
       "      <th>CPIAUCSL</th>\n",
       "      <th>PCEPILFE</th>\n",
       "      <th>PPIACO</th>\n",
       "      <th>IMPGSC1</th>\n",
       "      <th>EXPGSC1</th>\n",
       "      <th>GS10</th>\n",
       "    </tr>\n",
       "  </thead>\n",
       "  <tbody>\n",
       "    <tr>\n",
       "      <th>0</th>\n",
       "      <td>0.442864</td>\n",
       "      <td>0.001759</td>\n",
       "      <td>0.490045</td>\n",
       "      <td>0.738431</td>\n",
       "      <td>0.000000</td>\n",
       "      <td>0.000000</td>\n",
       "      <td>0.147059</td>\n",
       "      <td>0.004144</td>\n",
       "      <td>0.000757</td>\n",
       "      <td>0.0</td>\n",
       "      <td>0.000000</td>\n",
       "      <td>0.000000</td>\n",
       "      <td>0.003470</td>\n",
       "      <td>0.009153</td>\n",
       "      <td>0.156070</td>\n",
       "    </tr>\n",
       "    <tr>\n",
       "      <th>1</th>\n",
       "      <td>0.442826</td>\n",
       "      <td>0.001502</td>\n",
       "      <td>0.486082</td>\n",
       "      <td>0.716298</td>\n",
       "      <td>0.000178</td>\n",
       "      <td>0.000109</td>\n",
       "      <td>0.147059</td>\n",
       "      <td>0.003585</td>\n",
       "      <td>0.000568</td>\n",
       "      <td>0.0</td>\n",
       "      <td>0.000301</td>\n",
       "      <td>0.000839</td>\n",
       "      <td>0.004444</td>\n",
       "      <td>0.009056</td>\n",
       "      <td>0.153661</td>\n",
       "    </tr>\n",
       "    <tr>\n",
       "      <th>2</th>\n",
       "      <td>0.442788</td>\n",
       "      <td>0.001245</td>\n",
       "      <td>0.482119</td>\n",
       "      <td>0.694165</td>\n",
       "      <td>0.000357</td>\n",
       "      <td>0.000218</td>\n",
       "      <td>0.147059</td>\n",
       "      <td>0.003026</td>\n",
       "      <td>0.000378</td>\n",
       "      <td>0.0</td>\n",
       "      <td>0.000601</td>\n",
       "      <td>0.001679</td>\n",
       "      <td>0.005417</td>\n",
       "      <td>0.008958</td>\n",
       "      <td>0.151251</td>\n",
       "    </tr>\n",
       "    <tr>\n",
       "      <th>3</th>\n",
       "      <td>0.442750</td>\n",
       "      <td>0.000987</td>\n",
       "      <td>0.478156</td>\n",
       "      <td>0.672032</td>\n",
       "      <td>0.000535</td>\n",
       "      <td>0.000327</td>\n",
       "      <td>0.147059</td>\n",
       "      <td>0.002468</td>\n",
       "      <td>0.000189</td>\n",
       "      <td>0.0</td>\n",
       "      <td>0.000902</td>\n",
       "      <td>0.002518</td>\n",
       "      <td>0.006391</td>\n",
       "      <td>0.008861</td>\n",
       "      <td>0.148842</td>\n",
       "    </tr>\n",
       "    <tr>\n",
       "      <th>4</th>\n",
       "      <td>0.442713</td>\n",
       "      <td>0.000730</td>\n",
       "      <td>0.474193</td>\n",
       "      <td>0.649899</td>\n",
       "      <td>0.000713</td>\n",
       "      <td>0.000436</td>\n",
       "      <td>0.147059</td>\n",
       "      <td>0.001909</td>\n",
       "      <td>0.000000</td>\n",
       "      <td>0.0</td>\n",
       "      <td>0.001203</td>\n",
       "      <td>0.003357</td>\n",
       "      <td>0.007364</td>\n",
       "      <td>0.008763</td>\n",
       "      <td>0.146432</td>\n",
       "    </tr>\n",
       "  </tbody>\n",
       "</table>\n",
       "</div>"
      ],
      "text/plain": [
       "      GDPC1    INDPRO       TCU     CFNAI   DSPIC96       PCE    U1RATE  \\\n",
       "0  0.442864  0.001759  0.490045  0.738431  0.000000  0.000000  0.147059   \n",
       "1  0.442826  0.001502  0.486082  0.716298  0.000178  0.000109  0.147059   \n",
       "2  0.442788  0.001245  0.482119  0.694165  0.000357  0.000218  0.147059   \n",
       "3  0.442750  0.000987  0.478156  0.672032  0.000535  0.000327  0.147059   \n",
       "4  0.442713  0.000730  0.474193  0.649899  0.000713  0.000436  0.147059   \n",
       "\n",
       "     CE16OV    PAYEMS  CPIAUCSL  PCEPILFE    PPIACO   IMPGSC1   EXPGSC1  \\\n",
       "0  0.004144  0.000757       0.0  0.000000  0.000000  0.003470  0.009153   \n",
       "1  0.003585  0.000568       0.0  0.000301  0.000839  0.004444  0.009056   \n",
       "2  0.003026  0.000378       0.0  0.000601  0.001679  0.005417  0.008958   \n",
       "3  0.002468  0.000189       0.0  0.000902  0.002518  0.006391  0.008861   \n",
       "4  0.001909  0.000000       0.0  0.001203  0.003357  0.007364  0.008763   \n",
       "\n",
       "       GS10  \n",
       "0  0.156070  \n",
       "1  0.153661  \n",
       "2  0.151251  \n",
       "3  0.148842  \n",
       "4  0.146432  "
      ]
     },
     "execution_count": 42,
     "metadata": {},
     "output_type": "execute_result"
    }
   ],
   "source": [
    "# Scale\n",
    "columns = df_w.columns\n",
    "\n",
    "scaler = MinMaxScaler()\n",
    "df_train_scaled = pd.DataFrame(scaler.fit_transform(df_train), columns=columns)\n",
    "df_test_scaled = pd.DataFrame(scaler.transform(df_test), columns=columns)\n",
    "df_val_scaled=pd.DataFrame(scaler.transform(df_val), columns=columns)\n",
    "df_train_scaled.head()"
   ]
  },
  {
   "cell_type": "code",
   "execution_count": 43,
   "id": "e3c5cb59",
   "metadata": {},
   "outputs": [],
   "source": [
    "def subsample_sequence(df, length):\n",
    "    \"\"\"\n",
    "    Given the initial dataframe `df`, return a shorter dataframe sequence of length `length`.\n",
    "    This shorter sequence should be selected at random\n",
    "    \"\"\"\n",
    "    last_possible = df.shape[0] - length\n",
    "    \n",
    "    random_start = np.random.randint(0, last_possible)\n",
    "    df_sample = df[random_start: random_start+length]\n",
    "    \n",
    "    return df_sample\n",
    "\n",
    "\n",
    "def compute_means(X, df_mean):\n",
    "    # Compute means of X\n",
    "    means = X.mean()\n",
    "    \n",
    "    # Case if ALL values of at least one feature of X are NaN, then reaplace with the whole df_mean\n",
    "    if means.isna().sum() != 0:\n",
    "        means.fillna(df_mean, inplace=True)\n",
    "        \n",
    "    return means\n",
    "\n",
    "def split_subsample_sequence(df, length, df_mean=None):\n",
    "    '''Return one single random sample (X_sample, y_sample) containing one sequence each of length `length`'''\n",
    "    # Trick to save time during potential recursive calls\n",
    "    if df_mean is None:\n",
    "        df_mean = df.mean()\n",
    "\n",
    "    df_subsample = subsample_sequence(df, length)\n",
    "    \n",
    "    y_sample = df_subsample.iloc[length-1]['GDPC1']\n",
    "    # Case y_sample is NaN: redraw !\n",
    "    if y_sample != y_sample: # A value is not equal to itself only for NaN\n",
    "            X_sample, y_sample = split_subsample_sequence(df, length, df_mean) # Recursive call !!!\n",
    "            return np.array(X_sample), np.array(y_sample)\n",
    "\n",
    "    X_sample = df_subsample[0:length-1]\n",
    "    # Case X_sample has some NaNs\n",
    "    if X_sample.isna().sum().sum() !=0:\n",
    "        X_sample = X_sample.fillna(compute_means(X_sample, df_mean))\n",
    "        X_sample = X_sample.values\n",
    "        \n",
    "    return np.array(X_sample), np.array(y_sample)\n",
    "\n",
    "def get_X_y(df, n_sequences, length):\n",
    "    '''Return a list of samples (X, y)'''\n",
    "    X, y = [], []\n",
    "\n",
    "    for i in range(n_sequences):\n",
    "        (xi, yi) = split_subsample_sequence(df, length)\n",
    "        X.append(xi)\n",
    "        y.append(yi)\n",
    "        \n",
    "    X = np.array(X)\n",
    "    y = np.array(y)\n",
    "    \n",
    "    return X, y"
   ]
  },
  {
   "cell_type": "code",
   "execution_count": 44,
   "id": "f03e65d2",
   "metadata": {},
   "outputs": [
    {
     "name": "stdout",
     "output_type": "stream",
     "text": [
      "(500, 3, 15)\n",
      "(500,)\n"
     ]
    }
   ],
   "source": [
    "#Sequences has to be >100 for our model to train correctly\n",
    "X_train, y_train = get_X_y(df_train_scaled, 500, 4)\n",
    "print(X_train.shape)\n",
    "print(y_train.shape)"
   ]
  },
  {
   "cell_type": "code",
   "execution_count": 45,
   "id": "d67525ec",
   "metadata": {},
   "outputs": [
    {
     "name": "stdout",
     "output_type": "stream",
     "text": [
      "(100, 3, 15)\n",
      "(100,)\n"
     ]
    }
   ],
   "source": [
    "X_test, y_test = get_X_y(df_test_scaled, 100, 4)\n",
    "print(X_test.shape)\n",
    "print(y_test.shape)"
   ]
  },
  {
   "cell_type": "code",
   "execution_count": 46,
   "id": "c05f396f",
   "metadata": {},
   "outputs": [
    {
     "name": "stdout",
     "output_type": "stream",
     "text": [
      "(100, 3, 15)\n",
      "(100,)\n"
     ]
    }
   ],
   "source": [
    "X_val, y_val = get_X_y(df_val_scaled, 100, 4)\n",
    "print(X_val.shape)\n",
    "print(y_val.shape)"
   ]
  },
  {
   "cell_type": "code",
   "execution_count": 47,
   "id": "ff2d0bf6",
   "metadata": {},
   "outputs": [],
   "source": [
    "input_shape=X_train[0].shape"
   ]
  },
  {
   "cell_type": "markdown",
   "id": "e275121f",
   "metadata": {},
   "source": [
    "### RNN MODEL"
   ]
  },
  {
   "cell_type": "code",
   "execution_count": 48,
   "id": "c0819bd2",
   "metadata": {},
   "outputs": [
    {
     "name": "stdout",
     "output_type": "stream",
     "text": [
      "Benchmark MAPE on the test set : -49.45 %\n"
     ]
    }
   ],
   "source": [
    "# Mean of the train set y_train\n",
    "y_pred_baseline = np.mean(y_train)\n",
    "bench_res = np.mean(np.abs(y_pred_baseline - y_test)/y_test)*100\n",
    "\n",
    "print(f'Benchmark MAPE on the test set : {bench_res:.2f} %')"
   ]
  },
  {
   "cell_type": "code",
   "execution_count": 49,
   "id": "931343f4",
   "metadata": {},
   "outputs": [
    {
     "name": "stdout",
     "output_type": "stream",
     "text": [
      "Benchmark MAPE on the test set : 0.82 %\n"
     ]
    }
   ],
   "source": [
    "# Predict MAPE with last GDP value\n",
    "y_pred_baseline = X_test[:,-1,0]\n",
    "bench_res = np.mean(np.abs(y_pred_baseline - y_test)/y_test)*100\n",
    "print(f'Benchmark MAPE on the test set : {bench_res:.2f} %')"
   ]
  },
  {
   "cell_type": "code",
   "execution_count": 50,
   "id": "3463bdc9",
   "metadata": {},
   "outputs": [
    {
     "name": "stdout",
     "output_type": "stream",
     "text": [
      "Benchmark MAE on the test set : 0.0837\n"
     ]
    }
   ],
   "source": [
    "# We here decide to predict the mean of the train set y_train\n",
    "y_pred_baseline = np.mean(y_train)\n",
    "bench_res = np.mean(np.abs(y_pred_baseline-y_test))\n",
    "\n",
    "print(f'Benchmark MAE on the test set : {bench_res:.4f}')"
   ]
  },
  {
   "cell_type": "code",
   "execution_count": 51,
   "id": "00becf77",
   "metadata": {},
   "outputs": [
    {
     "name": "stdout",
     "output_type": "stream",
     "text": [
      "Benchmark MAE on the test set : 0.00 %\n"
     ]
    }
   ],
   "source": [
    "# Predict MAE with last GDP value\n",
    "y_pred_baseline = X_test[:,-1,0]\n",
    "bench_res = np.mean(np.abs(y_pred_baseline - y_test))\n",
    "print(f'Benchmark MAE on the test set : {bench_res:.2f} %')"
   ]
  },
  {
   "cell_type": "code",
   "execution_count": 52,
   "id": "04f22088",
   "metadata": {},
   "outputs": [
    {
     "name": "stdout",
     "output_type": "stream",
     "text": [
      "Benchmark RMSE on the test set : 0.1203\n"
     ]
    }
   ],
   "source": [
    "# We here decide to predict the mean of the train set y_train\n",
    "y_pred_baseline = np.mean(y_train)\n",
    "bench_res = np.sqrt(np.mean(np.square(y_pred_baseline-y_test)))\n",
    "print(f'Benchmark RMSE on the test set : {bench_res:.4f}')"
   ]
  },
  {
   "cell_type": "code",
   "execution_count": 53,
   "id": "3d5bc80f",
   "metadata": {},
   "outputs": [
    {
     "name": "stdout",
     "output_type": "stream",
     "text": [
      "Benchmark RMSE on the test set : 0.0213\n"
     ]
    }
   ],
   "source": [
    "# Predict RMSE with last GDP value\n",
    "y_pred_baseline = X_test[:,-1,0]\n",
    "bench_res = np.sqrt(np.mean(np.square(y_pred_baseline-y_test)))\n",
    "print(f'Benchmark RMSE on the test set : {bench_res:.4f}')"
   ]
  },
  {
   "cell_type": "code",
   "execution_count": 54,
   "id": "91013265",
   "metadata": {},
   "outputs": [
    {
     "data": {
      "text/plain": [
       "(3, 15)"
      ]
     },
     "execution_count": 54,
     "metadata": {},
     "output_type": "execute_result"
    }
   ],
   "source": [
    "input_shape=X_train.shape[1:]\n",
    "input_shape"
   ]
  },
  {
   "cell_type": "code",
   "execution_count": 73,
   "id": "0ae3265e",
   "metadata": {
    "scrolled": true
   },
   "outputs": [
    {
     "name": "stdout",
     "output_type": "stream",
     "text": [
      "Model: \"sequential_6\"\n",
      "_________________________________________________________________\n",
      "Layer (type)                 Output Shape              Param #   \n",
      "=================================================================\n",
      "lstm_8 (LSTM)                (None, 3, 50)             13200     \n",
      "_________________________________________________________________\n",
      "lstm_9 (LSTM)                (None, 20)                5680      \n",
      "_________________________________________________________________\n",
      "dense_12 (Dense)             (None, 5)                 105       \n",
      "_________________________________________________________________\n",
      "dense_13 (Dense)             (None, 1)                 6         \n",
      "=================================================================\n",
      "Total params: 18,991\n",
      "Trainable params: 18,991\n",
      "Non-trainable params: 0\n",
      "_________________________________________________________________\n"
     ]
    }
   ],
   "source": [
    "def init_model():\n",
    "    \n",
    "    model = models.Sequential()\n",
    "\n",
    "    model.add(layers.LSTM(50, return_sequences=True, activation='tanh', input_shape=input_shape))\n",
    "    model.add(layers.LSTM(20, activation='tanh'))\n",
    "    model.add(layers.Dense(5, activation='relu'))\n",
    "    model.add(layers.Dense(1, activation='linear'))\n",
    "    \n",
    "    model.compile(loss='mean_squared_error', \n",
    "                  optimizer='rmsprop', \n",
    "                  metrics=['mae','mape'])\n",
    "    \n",
    "    return model\n",
    "\n",
    "init_model().summary()"
   ]
  },
  {
   "cell_type": "code",
   "execution_count": 84,
   "id": "8f5088e6",
   "metadata": {},
   "outputs": [],
   "source": [
    "from tensorflow.keras.callbacks import EarlyStopping\n",
    "\n",
    "es=EarlyStopping(patience=50,restore_best_weights=True)\n",
    "model = init_model()\n",
    "\n",
    "\n",
    "\n",
    "history = model.fit(X_train, y_train,\n",
    "            validation_data=(X_val,y_val),\n",
    "            epochs=1000, \n",
    "            batch_size=16,\n",
    "            verbose=0,\n",
    "            callbacks=[es])"
   ]
  },
  {
   "cell_type": "code",
   "execution_count": 85,
   "id": "fb660c6b",
   "metadata": {},
   "outputs": [
    {
     "data": {
      "image/png": "[encoded data removed]",
      "text/plain": [
       "<Figure size 576x288 with 1 Axes>"
      ]
     },
     "metadata": {
      "needs_background": "light"
     },
     "output_type": "display_data"
    }
   ],
   "source": [
    "plt.figure(figsize=(8,4))\n",
    "plt.plot(history.history['loss'], label='Train Loss')\n",
    "plt.plot(history.history['val_loss'], label='Test Loss')\n",
    "plt.title('model loss')\n",
    "plt.ylabel('loss')\n",
    "plt.xlabel('epochs')\n",
    "plt.legend(loc='upper right')\n",
    "plt.show();"
   ]
  },
  {
   "cell_type": "code",
   "execution_count": 86,
   "id": "881a1469",
   "metadata": {},
   "outputs": [
    {
     "name": "stdout",
     "output_type": "stream",
     "text": [
      "MAE on the test set : 0.0200\n",
      "MAPE on the test set: 17.8593\n",
      "RMSE on the test set: 0.1414\n"
     ]
    }
   ],
   "source": [
    "res = model.evaluate(X_test, y_test, verbose=0)\n",
    "\n",
    "print(f'MAE on the test set : {res[1]:.4f}')\n",
    "print(f'MAPE on the test set: {res[2]:.4f}')\n",
    "print(f'RMSE on the test set: {res[1]**0.5:.4f}')"
   ]
  },
  {
   "cell_type": "code",
   "execution_count": 87,
   "id": "ec6d21df",
   "metadata": {},
   "outputs": [],
   "source": [
    "y_pred=model.predict(X_test)"
   ]
  },
  {
   "cell_type": "code",
   "execution_count": 88,
   "id": "cfab0aa3",
   "metadata": {},
   "outputs": [
    {
     "data": {
      "image/png": "[encoded data removed]",
      "text/plain": [
       "<Figure size 432x288 with 1 Axes>"
      ]
     },
     "metadata": {
      "needs_background": "light"
     },
     "output_type": "display_data"
    }
   ],
   "source": [
    "x_ax = range(len(X_test))\n",
    "plt.scatter(x_ax, y_test, s=5,label='original')\n",
    "plt.plot(x_ax, y_pred, lw=0.8,color='r',label='prediction')\n",
    "plt.legend()\n",
    "plt.show()"
   ]
  },
  {
   "cell_type": "code",
   "execution_count": 61,
   "id": "a495bcae",
   "metadata": {},
   "outputs": [
    {
     "name": "stdout",
     "output_type": "stream",
     "text": [
      "Model: \"sequential_2\"\n",
      "_________________________________________________________________\n",
      "Layer (type)                 Output Shape              Param #   \n",
      "=================================================================\n",
      "gru (GRU)                    (None, 3, 20)             2220      \n",
      "_________________________________________________________________\n",
      "gru_1 (GRU)                  (None, 10)                960       \n",
      "_________________________________________________________________\n",
      "dense_4 (Dense)              (None, 5)                 55        \n",
      "_________________________________________________________________\n",
      "dense_5 (Dense)              (None, 1)                 6         \n",
      "=================================================================\n",
      "Total params: 3,241\n",
      "Trainable params: 3,241\n",
      "Non-trainable params: 0\n",
      "_________________________________________________________________\n"
     ]
    }
   ],
   "source": [
    "def init_model():\n",
    "    \n",
    "    model = models.Sequential()\n",
    "\n",
    "    model.add(layers.GRU(20, return_sequences=True, activation='tanh', input_shape=input_shape))\n",
    "    model.add(layers.GRU(10, activation='tanh'))\n",
    "    model.add(layers.Dense(5, activation='relu'))\n",
    "    model.add(layers.Dense(1, activation='linear'))\n",
    "    \n",
    "    model.compile(loss='mse', \n",
    "                  optimizer=RMSprop(learning_rate=0.0003), \n",
    "                  metrics=['mae','mape'])\n",
    "    \n",
    "    return model\n",
    "\n",
    "init_model().summary()"
   ]
  },
  {
   "cell_type": "code",
   "execution_count": 62,
   "id": "53846985",
   "metadata": {},
   "outputs": [],
   "source": [
    "from tensorflow.keras.callbacks import EarlyStopping\n",
    "\n",
    "es=EarlyStopping(patience=10,restore_best_weights=True)\n",
    "model = init_model()\n",
    "\n",
    "\n",
    "\n",
    "history = model.fit(X_train, y_train,\n",
    "            validation_data=(X_val,y_val),\n",
    "            epochs=1000, \n",
    "            batch_size=32,\n",
    "            verbose=0,\n",
    "            callbacks=[es])"
   ]
  },
  {
   "cell_type": "code",
   "execution_count": 63,
   "id": "e839643b",
   "metadata": {},
   "outputs": [
    {
     "data": {
      "image/png": "[encoded data removed]",
      "text/plain": [
       "<Figure size 576x288 with 1 Axes>"
      ]
     },
     "metadata": {
      "needs_background": "light"
     },
     "output_type": "display_data"
    }
   ],
   "source": [
    "plt.figure(figsize=(8,4))\n",
    "plt.plot(history.history['loss'], label='Train Loss')\n",
    "plt.plot(history.history['val_loss'], label='Test Loss')\n",
    "plt.title('model loss')\n",
    "plt.ylabel('loss')\n",
    "plt.xlabel('epochs')\n",
    "plt.legend(loc='upper right')\n",
    "plt.show();"
   ]
  },
  {
   "cell_type": "code",
   "execution_count": 64,
   "id": "19f84fe4",
   "metadata": {},
   "outputs": [
    {
     "name": "stdout",
     "output_type": "stream",
     "text": [
      "MAE on the test set : 0.0777\n",
      "MAPE on the test set: 81.1636\n",
      "RMSE on the test set: 0.2788\n"
     ]
    }
   ],
   "source": [
    "res = model.evaluate(X_test, y_test, verbose=0)\n",
    "\n",
    "print(f'MAE on the test set : {res[1]:.4f}')\n",
    "print(f'MAPE on the test set: {res[2]:.4f}')\n",
    "print(f'RMSE on the test set: {res[1]**0.5:.4f}')"
   ]
  },
  {
   "cell_type": "code",
   "execution_count": 65,
   "id": "a4acff92",
   "metadata": {},
   "outputs": [],
   "source": [
    "y_pred=model.predict(X_test)"
   ]
  },
  {
   "cell_type": "code",
   "execution_count": 66,
   "id": "9708e949",
   "metadata": {},
   "outputs": [
    {
     "data": {
      "image/png": "[encoded data removed]",
      "text/plain": [
       "<Figure size 432x288 with 1 Axes>"
      ]
     },
     "metadata": {
      "needs_background": "light"
     },
     "output_type": "display_data"
    }
   ],
   "source": [
    "x_ax = range(len(X_test))\n",
    "plt.scatter(x_ax, y_test, s=5,label='original')\n",
    "plt.plot(x_ax, y_pred, lw=0.8,color='r',label='prediction')\n",
    "plt.legend()\n",
    "plt.show()"
   ]
  },
  {
   "cell_type": "code",
   "execution_count": null,
   "id": "ffceb7f2",
   "metadata": {},
   "outputs": [],
   "source": []
  }
 ],
 "metadata": {
  "interpreter": {
   "hash": "ebc7675df7c347d8de1a45157daf950eecd0ed3b17a19a71f2cee9d918969706"
  },
  "kernelspec": {
   "display_name": "Python 3",
   "language": "python",
   "name": "python3"
  },
  "language_info": {
   "codemirror_mode": {
    "name": "ipython",
    "version": 3
   },
   "file_extension": ".py",
   "mimetype": "text/x-python",
   "name": "python",
   "nbconvert_exporter": "python",
   "pygments_lexer": "ipython3",
   "version": "3.8.6"
  },
  "toc": {
   "base_numbering": 1,
   "nav_menu": {},
   "number_sections": true,
   "sideBar": true,
   "skip_h1_title": false,
   "title_cell": "Table of Contents",
   "title_sidebar": "Contents",
   "toc_cell": false,
   "toc_position": {},
   "toc_section_display": true,
   "toc_window_display": false
  }
 },
 "nbformat": 4,
 "nbformat_minor": 5
}
