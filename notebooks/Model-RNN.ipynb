{
 "cells": [
  {
   "cell_type": "code",
   "execution_count": 573,
   "id": "012b2796",
   "metadata": {},
   "outputs": [
    {
     "name": "stdout",
     "output_type": "stream",
     "text": [
      "The autoreload extension is already loaded. To reload it, use:\n",
      "  %reload_ext autoreload\n"
     ]
    }
   ],
   "source": [
    "%load_ext autoreload\n",
    "%autoreload 2\n",
    "\n",
    "import pandas as pd\n",
    "import numpy as np\n",
    "import sys\n",
    "import matplotlib.pyplot as plt\n",
    "import seaborn as sns\n",
    "from fredapi import Fred\n",
    "from tensorflow.keras.preprocessing.sequence import pad_sequences\n",
    "from tensorflow.keras import models\n",
    "from tensorflow.keras import layers\n",
    "from tensorflow.keras.optimizers import RMSprop\n",
    "from forecastingGDP.data import get_data,get_series_info,clear_cache\n",
    "from sklearn.preprocessing import MinMaxScaler,StandardScaler\n",
    "from scipy.interpolate import interp1d\n",
    "from sklearn.model_selection import TimeSeriesSplit"
   ]
  },
  {
   "cell_type": "markdown",
   "id": "000f06de",
   "metadata": {},
   "source": [
    "### Data"
   ]
  },
  {
   "cell_type": "code",
   "execution_count": 574,
   "id": "02550255",
   "metadata": {},
   "outputs": [],
   "source": [
    "df_m = get_data(frequency='MS', use_cache=True)\n",
    "df_q = get_data('QS-Jan', use_cache=True)\n",
    "df_w = get_data('W-Sun', use_cache=True)"
   ]
  },
  {
   "cell_type": "code",
   "execution_count": 575,
   "id": "35abfe8c",
   "metadata": {},
   "outputs": [],
   "source": [
    "df_w=df_w.loc[df_w.index>='1971-01']\n",
    "df_w=df_w.loc[df_w.index<='2020-01']"
   ]
  },
  {
   "cell_type": "code",
   "execution_count": 576,
   "id": "6e1072e7",
   "metadata": {},
   "outputs": [],
   "source": [
    "data_info=[]\n",
    "for i in df_w.columns:\n",
    "    data_info.append(get_series_info(i))   "
   ]
  },
  {
   "cell_type": "code",
   "execution_count": 579,
   "id": "c57c72d5",
   "metadata": {},
   "outputs": [
    {
     "data": {
      "text/html": [
       "<div>\n",
       "<style scoped>\n",
       "    .dataframe tbody tr th:only-of-type {\n",
       "        vertical-align: middle;\n",
       "    }\n",
       "\n",
       "    .dataframe tbody tr th {\n",
       "        vertical-align: top;\n",
       "    }\n",
       "\n",
       "    .dataframe thead th {\n",
       "        text-align: right;\n",
       "    }\n",
       "</style>\n",
       "<table border=\"1\" class=\"dataframe\">\n",
       "  <thead>\n",
       "    <tr style=\"text-align: right;\">\n",
       "      <th></th>\n",
       "      <th>GDPC1</th>\n",
       "      <th>INDPRO</th>\n",
       "      <th>ATLSBUSRGEP</th>\n",
       "      <th>TCU</th>\n",
       "      <th>AMTMNO</th>\n",
       "      <th>DGORDER</th>\n",
       "      <th>CFNAI</th>\n",
       "      <th>UMCSENT</th>\n",
       "      <th>MARTSMPCSM44000USS</th>\n",
       "      <th>DSPIC96</th>\n",
       "      <th>...</th>\n",
       "      <th>IMPGSC1</th>\n",
       "      <th>EXPGSC1</th>\n",
       "      <th>IMPCH</th>\n",
       "      <th>BAMLH0A0HYM2</th>\n",
       "      <th>SP500</th>\n",
       "      <th>WILL5000INDFC</th>\n",
       "      <th>VIXCLS</th>\n",
       "      <th>GS10</th>\n",
       "      <th>GS2</th>\n",
       "      <th>DTWEXAFEGS</th>\n",
       "    </tr>\n",
       "  </thead>\n",
       "  <tbody>\n",
       "    <tr>\n",
       "      <th>1971-01-03</th>\n",
       "      <td>5069.746000</td>\n",
       "      <td>37.70080</td>\n",
       "      <td>NaN</td>\n",
       "      <td>79.7621</td>\n",
       "      <td>NaN</td>\n",
       "      <td>NaN</td>\n",
       "      <td>0.53</td>\n",
       "      <td>NaN</td>\n",
       "      <td>NaN</td>\n",
       "      <td>3735.80</td>\n",
       "      <td>...</td>\n",
       "      <td>280.390</td>\n",
       "      <td>205.434000</td>\n",
       "      <td>NaN</td>\n",
       "      <td>NaN</td>\n",
       "      <td>NaN</td>\n",
       "      <td>NaN</td>\n",
       "      <td>NaN</td>\n",
       "      <td>6.240</td>\n",
       "      <td>NaN</td>\n",
       "      <td>NaN</td>\n",
       "    </tr>\n",
       "    <tr>\n",
       "      <th>1971-01-10</th>\n",
       "      <td>5071.856231</td>\n",
       "      <td>37.68644</td>\n",
       "      <td>NaN</td>\n",
       "      <td>79.6913</td>\n",
       "      <td>NaN</td>\n",
       "      <td>NaN</td>\n",
       "      <td>0.42</td>\n",
       "      <td>NaN</td>\n",
       "      <td>NaN</td>\n",
       "      <td>3736.82</td>\n",
       "      <td>...</td>\n",
       "      <td>282.017</td>\n",
       "      <td>205.317154</td>\n",
       "      <td>NaN</td>\n",
       "      <td>NaN</td>\n",
       "      <td>NaN</td>\n",
       "      <td>NaN</td>\n",
       "      <td>NaN</td>\n",
       "      <td>6.214</td>\n",
       "      <td>NaN</td>\n",
       "      <td>NaN</td>\n",
       "    </tr>\n",
       "    <tr>\n",
       "      <th>1971-01-17</th>\n",
       "      <td>5073.966462</td>\n",
       "      <td>37.67208</td>\n",
       "      <td>NaN</td>\n",
       "      <td>79.6205</td>\n",
       "      <td>NaN</td>\n",
       "      <td>NaN</td>\n",
       "      <td>0.31</td>\n",
       "      <td>NaN</td>\n",
       "      <td>NaN</td>\n",
       "      <td>3737.84</td>\n",
       "      <td>...</td>\n",
       "      <td>283.644</td>\n",
       "      <td>205.200308</td>\n",
       "      <td>NaN</td>\n",
       "      <td>NaN</td>\n",
       "      <td>NaN</td>\n",
       "      <td>NaN</td>\n",
       "      <td>NaN</td>\n",
       "      <td>6.188</td>\n",
       "      <td>NaN</td>\n",
       "      <td>NaN</td>\n",
       "    </tr>\n",
       "    <tr>\n",
       "      <th>1971-01-24</th>\n",
       "      <td>5076.076692</td>\n",
       "      <td>37.65772</td>\n",
       "      <td>NaN</td>\n",
       "      <td>79.5497</td>\n",
       "      <td>NaN</td>\n",
       "      <td>NaN</td>\n",
       "      <td>0.20</td>\n",
       "      <td>NaN</td>\n",
       "      <td>NaN</td>\n",
       "      <td>3738.86</td>\n",
       "      <td>...</td>\n",
       "      <td>285.271</td>\n",
       "      <td>205.083462</td>\n",
       "      <td>NaN</td>\n",
       "      <td>NaN</td>\n",
       "      <td>NaN</td>\n",
       "      <td>NaN</td>\n",
       "      <td>NaN</td>\n",
       "      <td>6.162</td>\n",
       "      <td>NaN</td>\n",
       "      <td>NaN</td>\n",
       "    </tr>\n",
       "    <tr>\n",
       "      <th>1971-01-31</th>\n",
       "      <td>5078.186923</td>\n",
       "      <td>37.64336</td>\n",
       "      <td>NaN</td>\n",
       "      <td>79.4789</td>\n",
       "      <td>NaN</td>\n",
       "      <td>NaN</td>\n",
       "      <td>0.09</td>\n",
       "      <td>NaN</td>\n",
       "      <td>NaN</td>\n",
       "      <td>3739.88</td>\n",
       "      <td>...</td>\n",
       "      <td>286.898</td>\n",
       "      <td>204.966615</td>\n",
       "      <td>NaN</td>\n",
       "      <td>NaN</td>\n",
       "      <td>NaN</td>\n",
       "      <td>1.05</td>\n",
       "      <td>NaN</td>\n",
       "      <td>6.136</td>\n",
       "      <td>NaN</td>\n",
       "      <td>NaN</td>\n",
       "    </tr>\n",
       "  </tbody>\n",
       "</table>\n",
       "<p>5 rows × 28 columns</p>\n",
       "</div>"
      ],
      "text/plain": [
       "                  GDPC1    INDPRO  ATLSBUSRGEP      TCU  AMTMNO  DGORDER  \\\n",
       "1971-01-03  5069.746000  37.70080          NaN  79.7621     NaN      NaN   \n",
       "1971-01-10  5071.856231  37.68644          NaN  79.6913     NaN      NaN   \n",
       "1971-01-17  5073.966462  37.67208          NaN  79.6205     NaN      NaN   \n",
       "1971-01-24  5076.076692  37.65772          NaN  79.5497     NaN      NaN   \n",
       "1971-01-31  5078.186923  37.64336          NaN  79.4789     NaN      NaN   \n",
       "\n",
       "            CFNAI  UMCSENT  MARTSMPCSM44000USS  DSPIC96  ...  IMPGSC1  \\\n",
       "1971-01-03   0.53      NaN                 NaN  3735.80  ...  280.390   \n",
       "1971-01-10   0.42      NaN                 NaN  3736.82  ...  282.017   \n",
       "1971-01-17   0.31      NaN                 NaN  3737.84  ...  283.644   \n",
       "1971-01-24   0.20      NaN                 NaN  3738.86  ...  285.271   \n",
       "1971-01-31   0.09      NaN                 NaN  3739.88  ...  286.898   \n",
       "\n",
       "               EXPGSC1  IMPCH  BAMLH0A0HYM2  SP500  WILL5000INDFC  VIXCLS  \\\n",
       "1971-01-03  205.434000    NaN           NaN    NaN            NaN     NaN   \n",
       "1971-01-10  205.317154    NaN           NaN    NaN            NaN     NaN   \n",
       "1971-01-17  205.200308    NaN           NaN    NaN            NaN     NaN   \n",
       "1971-01-24  205.083462    NaN           NaN    NaN            NaN     NaN   \n",
       "1971-01-31  204.966615    NaN           NaN    NaN           1.05     NaN   \n",
       "\n",
       "             GS10  GS2  DTWEXAFEGS  \n",
       "1971-01-03  6.240  NaN         NaN  \n",
       "1971-01-10  6.214  NaN         NaN  \n",
       "1971-01-17  6.188  NaN         NaN  \n",
       "1971-01-24  6.162  NaN         NaN  \n",
       "1971-01-31  6.136  NaN         NaN  \n",
       "\n",
       "[5 rows x 28 columns]"
      ]
     },
     "execution_count": 579,
     "metadata": {},
     "output_type": "execute_result"
    }
   ],
   "source": [
    "df_w.head()"
   ]
  },
  {
   "cell_type": "code",
   "execution_count": 580,
   "id": "647aed01",
   "metadata": {},
   "outputs": [
    {
     "ename": "KeyError",
     "evalue": "\"None of ['id'] are in the columns\"",
     "output_type": "error",
     "traceback": [
      "\u001b[0;31m---------------------------------------------------------------------------\u001b[0m",
      "\u001b[0;31mKeyError\u001b[0m                                  Traceback (most recent call last)",
      "\u001b[0;32m<ipython-input-580-c8f9d669f377>\u001b[0m in \u001b[0;36m<module>\u001b[0;34m\u001b[0m\n\u001b[1;32m      1\u001b[0m \u001b[0mdata_info\u001b[0m\u001b[0;34m=\u001b[0m\u001b[0mpd\u001b[0m\u001b[0;34m.\u001b[0m\u001b[0mDataFrame\u001b[0m\u001b[0;34m(\u001b[0m\u001b[0mdata_info\u001b[0m\u001b[0;34m)\u001b[0m\u001b[0;34m\u001b[0m\u001b[0;34m\u001b[0m\u001b[0m\n\u001b[0;32m----> 2\u001b[0;31m \u001b[0mdata_info\u001b[0m\u001b[0;34m=\u001b[0m\u001b[0mdata_info\u001b[0m\u001b[0;34m.\u001b[0m\u001b[0mset_index\u001b[0m\u001b[0;34m(\u001b[0m\u001b[0;34m'id'\u001b[0m\u001b[0;34m)\u001b[0m\u001b[0;34m\u001b[0m\u001b[0;34m\u001b[0m\u001b[0m\n\u001b[0m",
      "\u001b[0;32m~/.pyenv/versions/3.8.6/envs/forecastingGDP/lib/python3.8/site-packages/pandas/core/frame.py\u001b[0m in \u001b[0;36mset_index\u001b[0;34m(self, keys, drop, append, inplace, verify_integrity)\u001b[0m\n\u001b[1;32m   4725\u001b[0m \u001b[0;34m\u001b[0m\u001b[0m\n\u001b[1;32m   4726\u001b[0m         \u001b[0;32mif\u001b[0m \u001b[0mmissing\u001b[0m\u001b[0;34m:\u001b[0m\u001b[0;34m\u001b[0m\u001b[0;34m\u001b[0m\u001b[0m\n\u001b[0;32m-> 4727\u001b[0;31m             \u001b[0;32mraise\u001b[0m \u001b[0mKeyError\u001b[0m\u001b[0;34m(\u001b[0m\u001b[0;34mf\"None of {missing} are in the columns\"\u001b[0m\u001b[0;34m)\u001b[0m\u001b[0;34m\u001b[0m\u001b[0;34m\u001b[0m\u001b[0m\n\u001b[0m\u001b[1;32m   4728\u001b[0m \u001b[0;34m\u001b[0m\u001b[0m\n\u001b[1;32m   4729\u001b[0m         \u001b[0;32mif\u001b[0m \u001b[0minplace\u001b[0m\u001b[0;34m:\u001b[0m\u001b[0;34m\u001b[0m\u001b[0;34m\u001b[0m\u001b[0m\n",
      "\u001b[0;31mKeyError\u001b[0m: \"None of ['id'] are in the columns\""
     ]
    }
   ],
   "source": [
    "data_info=pd.DataFrame(data_info)\n",
    "data_info=data_info.set_index('id')"
   ]
  },
  {
   "cell_type": "code",
   "execution_count": null,
   "id": "4685f8d0",
   "metadata": {},
   "outputs": [],
   "source": [
    "#Info and Missing Values %\n",
    "percent_missing = df_w.isnull().sum() * 100 / len(data)\n",
    "observation_start=data_info['observation_start']\n",
    "observation_end=data_info['observation_end']\n",
    "frequency=data_info['frequency_short']\n",
    "\n",
    "df_info = pd.DataFrame({\n",
    "                        'observation_start':observation_start,\n",
    "                        'observation_end':observation_end,\n",
    "                        'frequency':frequency,\n",
    "                        'percent_missing': percent_missing})\n",
    "\n",
    "df_info=df_info.sort_values('percent_missing',ascending=False)\n",
    "df_info"
   ]
  },
  {
   "cell_type": "code",
   "execution_count": null,
   "id": "2fd3a4a8",
   "metadata": {},
   "outputs": [],
   "source": [
    "for i in df_w.columns:\n",
    "    if df_w[i].isna().sum()!=0:\n",
    "        df_w=df_w.drop(columns=i)"
   ]
  },
  {
   "cell_type": "code",
   "execution_count": null,
   "id": "63d1c832",
   "metadata": {},
   "outputs": [],
   "source": [
    "#Convert GDP to GDP change %\n",
    "df_w['GDPC1']=df_w['GDPC1'].pct_change()"
   ]
  },
  {
   "cell_type": "code",
   "execution_count": null,
   "id": "467adb2c",
   "metadata": {},
   "outputs": [],
   "source": [
    "df_w=df_w.dropna()"
   ]
  },
  {
   "cell_type": "code",
   "execution_count": null,
   "id": "9ec8b8f1",
   "metadata": {},
   "outputs": [],
   "source": [
    "#Info and Missing Values %\n",
    "percent_missing = df_w.isnull().sum() * 100 / len(data)\n",
    "observation_start=data_info['observation_start']\n",
    "observation_end=data_info['observation_end']\n",
    "frequency=data_info['frequency_short']\n",
    "\n",
    "df_info = pd.DataFrame({\n",
    "                        'observation_start':observation_start,\n",
    "                        'observation_end':observation_end,\n",
    "                        'frequency':frequency,\n",
    "                        'percent_missing': percent_missing})\n",
    "\n",
    "df_info=df_info.sort_values('percent_missing',ascending=False)\n",
    "df_info.dropna()"
   ]
  },
  {
   "cell_type": "code",
   "execution_count": null,
   "id": "955cc689",
   "metadata": {},
   "outputs": [],
   "source": [
    "#Starting and ending date\n",
    "print(f'Start: {df_w.index[0]}')\n",
    "print(f'End: {df_w.index[-1]}')\n",
    "print(f'Shape: {df_w.shape}')"
   ]
  },
  {
   "cell_type": "code",
   "execution_count": null,
   "id": "ac3eed77",
   "metadata": {},
   "outputs": [],
   "source": [
    "#Interpolation test on GDPC1\n",
    "X=np.arange(0, len(df_q))\n",
    "y=df_q['GDPC1'].dropna()\n",
    "f = interp1d(X, y)\n",
    "xnew = np.arange(0, len(df_q)-1, (1/3))\n",
    "ynew = f(xnew)\n",
    "plt.plot(X, y, 'o', xnew, ynew, '-')\n",
    "plt.show()"
   ]
  },
  {
   "cell_type": "code",
   "execution_count": null,
   "id": "62e23dd2",
   "metadata": {},
   "outputs": [],
   "source": [
    "def interpolation():\n",
    "    \n",
    "    '''Create a linear interpolation of missing data'''\n",
    "    for i in df_info.index:\n",
    "        if df_info.loc[i]['frequency']=='Q':\n",
    "            \n",
    "            X=np.arange(0, len(data[i].dropna()))\n",
    "            y=data[i].dropna()\n",
    "            f = interp1d(X, y)\n",
    "            xnew = np.arange(0, len(data[i].dropna())-1, (1/3))\n",
    "            ynew = f(xnew)\n",
    "            df_test.drop(columns=[i])\n",
    "            df_test[i]=ynew\n",
    "            \n",
    "    return df_test"
   ]
  },
  {
   "cell_type": "code",
   "execution_count": null,
   "id": "f8bf0026",
   "metadata": {},
   "outputs": [],
   "source": [
    "corr = df_w.corr()\n",
    "f, ax = plt.subplots(figsize=(12, 10))\n",
    "mask = np.triu(np.ones_like(corr, dtype=bool))\n",
    "cmap = sns.diverging_palette(230, 20, as_cmap=True)\n",
    "sns.heatmap(corr, annot=True, mask = mask, cmap=cmap);"
   ]
  },
  {
   "cell_type": "markdown",
   "id": "82b6f6a7",
   "metadata": {},
   "source": [
    "#### df_train & df_test split"
   ]
  },
  {
   "cell_type": "code",
   "execution_count": null,
   "id": "d98a2804",
   "metadata": {},
   "outputs": [],
   "source": [
    "df_w"
   ]
  },
  {
   "cell_type": "code",
   "execution_count": null,
   "id": "89559634",
   "metadata": {},
   "outputs": [],
   "source": [
    "# Time Serie split \n",
    "#We separate df into df_train and df_test such that the first 80% of the dataframe are in the training. \n",
    "#And the last 20% in the test set.\n",
    "\n",
    "len_ = int(0.6*df_w.shape[0])\n",
    "df_train = df_w[:len_]\n",
    "df_test = df_w[len_:len_+int(len(df_w[len_:])/2)]\n",
    "df_val=df_w[len_+int(len(df_w[len_:])/2):]\n",
    "assert df_train.shape[0]+df_test.shape[0]+df_val.shape[0] == df_w.shape[0]"
   ]
  },
  {
   "cell_type": "code",
   "execution_count": null,
   "id": "7eb40fc3",
   "metadata": {},
   "outputs": [],
   "source": [
    "# Scale\n",
    "columns = df_w.columns\n",
    "\n",
    "scaler = MinMaxScaler()\n",
    "df_train_scaled = pd.DataFrame(scaler.fit_transform(df_train), columns=columns)\n",
    "df_test_scaled = pd.DataFrame(scaler.transform(df_test), columns=columns)\n",
    "df_val_scaled=pd.DataFrame(scaler.transform(df_val), columns=columns)\n",
    "df_train_scaled.head()"
   ]
  },
  {
   "cell_type": "code",
   "execution_count": null,
   "id": "e3c5cb59",
   "metadata": {},
   "outputs": [],
   "source": [
    "def subsample_sequence(df, length):\n",
    "    \"\"\"\n",
    "    Given the initial dataframe `df`, return a shorter dataframe sequence of length `length`.\n",
    "    This shorter sequence should be selected at random\n",
    "    \"\"\"\n",
    "    last_possible = df.shape[0] - length\n",
    "    \n",
    "    random_start = np.random.randint(0, last_possible)\n",
    "    df_sample = df[random_start: random_start+length]\n",
    "    \n",
    "    return df_sample\n",
    "\n",
    "\n",
    "def compute_means(X, df_mean):\n",
    "    # Compute means of X\n",
    "    means = X.mean()\n",
    "    \n",
    "    # Case if ALL values of at least one feature of X are NaN, then reaplace with the whole df_mean\n",
    "    if means.isna().sum() != 0:\n",
    "        means.fillna(df_mean, inplace=True)\n",
    "        \n",
    "    return means\n",
    "\n",
    "def split_subsample_sequence(df, length, df_mean=None):\n",
    "    '''Return one single random sample (X_sample, y_sample) containing one sequence each of length `length`'''\n",
    "    # Trick to save time during potential recursive calls\n",
    "    if df_mean is None:\n",
    "        df_mean = df.mean()\n",
    "\n",
    "    df_subsample = subsample_sequence(df, length)\n",
    "    \n",
    "    y_sample = df_subsample.iloc[length-1]['GDPC1']\n",
    "    # Case y_sample is NaN: redraw !\n",
    "    if y_sample != y_sample: # A value is not equal to itself only for NaN\n",
    "            X_sample, y_sample = split_subsample_sequence(df, length, df_mean) # Recursive call !!!\n",
    "            return np.array(X_sample), np.array(y_sample)\n",
    "\n",
    "    X_sample = df_subsample[0:length-1]\n",
    "    # Case X_sample has some NaNs\n",
    "    if X_sample.isna().sum().sum() !=0:\n",
    "        X_sample = X_sample.fillna(compute_means(X_sample, df_mean))\n",
    "        X_sample = X_sample.values\n",
    "        \n",
    "    return np.array(X_sample), np.array(y_sample)\n",
    "\n",
    "def get_X_y(df, n_sequences, length):\n",
    "    '''Return a list of samples (X, y)'''\n",
    "    X, y = [], []\n",
    "\n",
    "    for i in range(n_sequences):\n",
    "        (xi, yi) = split_subsample_sequence(df, length)\n",
    "        X.append(xi)\n",
    "        y.append(yi)\n",
    "        \n",
    "    X = np.array(X)\n",
    "    y = np.array(y)\n",
    "    \n",
    "    return X, y"
   ]
  },
  {
   "cell_type": "code",
   "execution_count": null,
   "id": "f03e65d2",
   "metadata": {},
   "outputs": [],
   "source": [
    "#Sequences has to be >100 for our model to train correctly\n",
    "X_train, y_train = get_X_y(df_train_scaled, 500, 4)\n",
    "print(X_train.shape)\n",
    "print(y_train.shape)"
   ]
  },
  {
   "cell_type": "code",
   "execution_count": null,
   "id": "d67525ec",
   "metadata": {},
   "outputs": [],
   "source": [
    "X_test, y_test = get_X_y(df_test_scaled, 100, 4)\n",
    "print(X_test.shape)\n",
    "print(y_test.shape)"
   ]
  },
  {
   "cell_type": "code",
   "execution_count": null,
   "id": "c05f396f",
   "metadata": {},
   "outputs": [],
   "source": [
    "X_val, y_val = get_X_y(df_val_scaled, 100, 4)\n",
    "print(X_val.shape)\n",
    "print(y_val.shape)"
   ]
  },
  {
   "cell_type": "code",
   "execution_count": null,
   "id": "ff2d0bf6",
   "metadata": {},
   "outputs": [],
   "source": [
    "input_shape=X_train[0].shape"
   ]
  },
  {
   "cell_type": "markdown",
   "id": "e275121f",
   "metadata": {},
   "source": [
    "### RNN MODEL"
   ]
  },
  {
   "cell_type": "code",
   "execution_count": null,
   "id": "c0819bd2",
   "metadata": {},
   "outputs": [],
   "source": [
    "# Mean of the train set y_train\n",
    "y_pred_baseline = np.mean(y_train)\n",
    "bench_res = np.mean(np.abs(y_pred_baseline - y_test)/y_test)*100\n",
    "\n",
    "print(f'Benchmark MAPE on the test set : {bench_res:.2f} %')"
   ]
  },
  {
   "cell_type": "code",
   "execution_count": null,
   "id": "931343f4",
   "metadata": {},
   "outputs": [],
   "source": [
    "# Predict MAPE with last GDP value\n",
    "y_pred_baseline = X_test[:,-1,0]\n",
    "bench_res = np.mean(np.abs(y_pred_baseline - y_test)/y_test)*100\n",
    "print(f'Benchmark MAPE on the test set : {bench_res:.2f} %')"
   ]
  },
  {
   "cell_type": "code",
   "execution_count": null,
   "id": "3463bdc9",
   "metadata": {},
   "outputs": [],
   "source": [
    "# We here decide to predict the mean of the train set y_train\n",
    "y_pred_baseline = np.mean(y_train)\n",
    "bench_res = np.mean(np.abs(y_pred_baseline-y_test))\n",
    "\n",
    "print(f'Benchmark MAE on the test set : {bench_res:.4f}')"
   ]
  },
  {
   "cell_type": "code",
   "execution_count": null,
   "id": "00becf77",
   "metadata": {},
   "outputs": [],
   "source": [
    "# Predict MAE with last GDP value\n",
    "y_pred_baseline = X_test[:,-1,0]\n",
    "bench_res = np.mean(np.abs(y_pred_baseline - y_test))\n",
    "print(f'Benchmark MAE on the test set : {bench_res:.2f} %')"
   ]
  },
  {
   "cell_type": "code",
   "execution_count": null,
   "id": "04f22088",
   "metadata": {},
   "outputs": [],
   "source": [
    "# We here decide to predict the mean of the train set y_train\n",
    "y_pred_baseline = np.mean(y_train)\n",
    "bench_res = np.sqrt(np.mean(np.square(y_pred_baseline-y_test)))\n",
    "print(f'Benchmark RMSE on the test set : {bench_res:.4f}')"
   ]
  },
  {
   "cell_type": "code",
   "execution_count": null,
   "id": "3d5bc80f",
   "metadata": {},
   "outputs": [],
   "source": [
    "# Predict RMSE with last GDP value\n",
    "y_pred_baseline = X_test[:,-1,0]\n",
    "bench_res = np.sqrt(np.mean(np.square(y_pred_baseline-y_test)))\n",
    "print(f'Benchmark RMSE on the test set : {bench_res:.4f}')"
   ]
  },
  {
   "cell_type": "code",
   "execution_count": null,
   "id": "91013265",
   "metadata": {},
   "outputs": [],
   "source": [
    "input_shape=X_train.shape[1:]\n",
    "input_shape"
   ]
  },
  {
   "cell_type": "code",
   "execution_count": 594,
   "id": "0ae3265e",
   "metadata": {
    "scrolled": true
   },
   "outputs": [
    {
     "name": "stdout",
     "output_type": "stream",
     "text": [
      "Model: \"sequential_32\"\n",
      "_________________________________________________________________\n",
      "Layer (type)                 Output Shape              Param #   \n",
      "=================================================================\n",
      "lstm_44 (LSTM)               (None, 3, 50)             13200     \n",
      "_________________________________________________________________\n",
      "lstm_45 (LSTM)               (None, 20)                5680      \n",
      "_________________________________________________________________\n",
      "dense_64 (Dense)             (None, 5)                 105       \n",
      "_________________________________________________________________\n",
      "dense_65 (Dense)             (None, 1)                 6         \n",
      "=================================================================\n",
      "Total params: 18,991\n",
      "Trainable params: 18,991\n",
      "Non-trainable params: 0\n",
      "_________________________________________________________________\n"
     ]
    }
   ],
   "source": [
    "def init_model():\n",
    "    \n",
    "    model = models.Sequential()\n",
    "\n",
    "    model.add(layers.LSTM(50, return_sequences=True, activation='tanh', input_shape=input_shape))\n",
    "    model.add(layers.LSTM(20, activation='tanh'))\n",
    "    model.add(layers.Dense(5, activation='relu'))\n",
    "    model.add(layers.Dense(1, activation='linear'))\n",
    "    \n",
    "    model.compile(loss='mean_squared_error', \n",
    "                  optimizer='rmsprop', \n",
    "                  metrics=['mae','mape'])\n",
    "    \n",
    "    return model\n",
    "\n",
    "init_model().summary()"
   ]
  },
  {
   "cell_type": "code",
   "execution_count": 595,
   "id": "8f5088e6",
   "metadata": {},
   "outputs": [],
   "source": [
    "from tensorflow.keras.callbacks import EarlyStopping\n",
    "\n",
    "es=EarlyStopping(patience=10,restore_best_weights=True)\n",
    "model = init_model()\n",
    "\n",
    "\n",
    "\n",
    "history = model.fit(X_train, y_train,\n",
    "            validation_data=(X_val,y_val),\n",
    "            epochs=1000, \n",
    "            batch_size=16,\n",
    "            verbose=0,\n",
    "            callbacks=[es])"
   ]
  },
  {
   "cell_type": "code",
   "execution_count": 596,
   "id": "fb660c6b",
   "metadata": {},
   "outputs": [
    {
     "data": {
      "image/png": "[encoded data removed]",
      "text/plain": [
       "<Figure size 576x288 with 1 Axes>"
      ]
     },
     "metadata": {
      "needs_background": "light"
     },
     "output_type": "display_data"
    }
   ],
   "source": [
    "plt.figure(figsize=(8,4))\n",
    "plt.plot(history.history['loss'], label='Train Loss')\n",
    "plt.plot(history.history['val_loss'], label='Test Loss')\n",
    "plt.title('model loss')\n",
    "plt.ylabel('loss')\n",
    "plt.xlabel('epochs')\n",
    "plt.legend(loc='upper right')\n",
    "plt.show();"
   ]
  },
  {
   "cell_type": "code",
   "execution_count": 597,
   "id": "881a1469",
   "metadata": {},
   "outputs": [
    {
     "name": "stdout",
     "output_type": "stream",
     "text": [
      "MAE on the test set : 0.0347\n",
      "MAPE on the test set: 50.0469\n",
      "RMSE on the test set: 0.1862\n"
     ]
    }
   ],
   "source": [
    "res = model.evaluate(X_test, y_test, verbose=0)\n",
    "\n",
    "print(f'MAE on the test set : {res[1]:.4f}')\n",
    "print(f'MAPE on the test set: {res[2]:.4f}')\n",
    "print(f'RMSE on the test set: {res[1]**0.5:.4f}')"
   ]
  },
  {
   "cell_type": "code",
   "execution_count": 598,
   "id": "ec6d21df",
   "metadata": {},
   "outputs": [],
   "source": [
    "y_pred=model.predict(X_test)"
   ]
  },
  {
   "cell_type": "code",
   "execution_count": 599,
   "id": "cfab0aa3",
   "metadata": {},
   "outputs": [
    {
     "data": {
      "image/png": "[encoded data removed]",
      "text/plain": [
       "<Figure size 432x288 with 1 Axes>"
      ]
     },
     "metadata": {
      "needs_background": "light"
     },
     "output_type": "display_data"
    }
   ],
   "source": [
    "x_ax = range(len(X_test))\n",
    "plt.scatter(x_ax, y_test, s=5,label='original')\n",
    "plt.plot(x_ax, y_pred, lw=0.8,color='r',label='prediction')\n",
    "plt.legend()\n",
    "plt.show()"
   ]
  },
  {
   "cell_type": "code",
   "execution_count": 600,
   "id": "a495bcae",
   "metadata": {},
   "outputs": [
    {
     "name": "stdout",
     "output_type": "stream",
     "text": [
      "Model: \"sequential_34\"\n",
      "_________________________________________________________________\n",
      "Layer (type)                 Output Shape              Param #   \n",
      "=================================================================\n",
      "gru_28 (GRU)                 (None, 3, 20)             2220      \n",
      "_________________________________________________________________\n",
      "gru_29 (GRU)                 (None, 10)                960       \n",
      "_________________________________________________________________\n",
      "dense_68 (Dense)             (None, 5)                 55        \n",
      "_________________________________________________________________\n",
      "dense_69 (Dense)             (None, 1)                 6         \n",
      "=================================================================\n",
      "Total params: 3,241\n",
      "Trainable params: 3,241\n",
      "Non-trainable params: 0\n",
      "_________________________________________________________________\n"
     ]
    }
   ],
   "source": [
    "def init_model():\n",
    "    \n",
    "    model = models.Sequential()\n",
    "\n",
    "    model.add(layers.GRU(20, return_sequences=True, activation='tanh', input_shape=input_shape))\n",
    "    model.add(layers.GRU(10, activation='tanh'))\n",
    "    model.add(layers.Dense(5, activation='relu'))\n",
    "    model.add(layers.Dense(1, activation='linear'))\n",
    "    \n",
    "    model.compile(loss='mse', \n",
    "                  optimizer=RMSprop(learning_rate=0.0003), \n",
    "                  metrics=['mae','mape'])\n",
    "    \n",
    "    return model\n",
    "\n",
    "init_model().summary()"
   ]
  },
  {
   "cell_type": "code",
   "execution_count": 585,
   "id": "53846985",
   "metadata": {},
   "outputs": [],
   "source": [
    "from tensorflow.keras.callbacks import EarlyStopping\n",
    "\n",
    "es=EarlyStopping(patience=10,restore_best_weights=True)\n",
    "model = init_model()\n",
    "\n",
    "\n",
    "\n",
    "history = model.fit(X_train, y_train,\n",
    "            validation_data=(X_val,y_val),\n",
    "            epochs=1000, \n",
    "            batch_size=32,\n",
    "            verbose=0,\n",
    "            callbacks=[es])"
   ]
  },
  {
   "cell_type": "code",
   "execution_count": 586,
   "id": "e839643b",
   "metadata": {},
   "outputs": [
    {
     "data": {
      "image/png": "[encoded data removed]",
      "text/plain": [
       "<Figure size 576x288 with 1 Axes>"
      ]
     },
     "metadata": {
      "needs_background": "light"
     },
     "output_type": "display_data"
    }
   ],
   "source": [
    "plt.figure(figsize=(8,4))\n",
    "plt.plot(history.history['loss'], label='Train Loss')\n",
    "plt.plot(history.history['val_loss'], label='Test Loss')\n",
    "plt.title('model loss')\n",
    "plt.ylabel('loss')\n",
    "plt.xlabel('epochs')\n",
    "plt.legend(loc='upper right')\n",
    "plt.show();"
   ]
  },
  {
   "cell_type": "code",
   "execution_count": 587,
   "id": "19f84fe4",
   "metadata": {},
   "outputs": [
    {
     "name": "stdout",
     "output_type": "stream",
     "text": [
      "MAE on the test set : 0.0832\n",
      "MAPE on the test set: 100.2824\n",
      "RMSE on the test set: 0.2885\n"
     ]
    }
   ],
   "source": [
    "res = model.evaluate(X_test, y_test, verbose=0)\n",
    "\n",
    "print(f'MAE on the test set : {res[1]:.4f}')\n",
    "print(f'MAPE on the test set: {res[2]:.4f}')\n",
    "print(f'RMSE on the test set: {res[1]**0.5:.4f}')"
   ]
  },
  {
   "cell_type": "code",
   "execution_count": 588,
   "id": "a4acff92",
   "metadata": {},
   "outputs": [],
   "source": [
    "y_pred=model.predict(X_test)"
   ]
  },
  {
   "cell_type": "code",
   "execution_count": 589,
   "id": "9708e949",
   "metadata": {},
   "outputs": [
    {
     "data": {
      "image/png": "[encoded data removed]",
      "text/plain": [
       "<Figure size 432x288 with 1 Axes>"
      ]
     },
     "metadata": {
      "needs_background": "light"
     },
     "output_type": "display_data"
    }
   ],
   "source": [
    "x_ax = range(len(X_test))\n",
    "plt.scatter(x_ax, y_test, s=5,label='original')\n",
    "plt.plot(x_ax, y_pred, lw=0.8,color='r',label='prediction')\n",
    "plt.legend()\n",
    "plt.show()"
   ]
  }
 ],
 "metadata": {
  "interpreter": {
   "hash": "ebc7675df7c347d8de1a45157daf950eecd0ed3b17a19a71f2cee9d918969706"
  },
  "kernelspec": {
   "display_name": "Python 3",
   "language": "python",
   "name": "python3"
  },
  "language_info": {
   "codemirror_mode": {
    "name": "ipython",
    "version": 3
   },
   "file_extension": ".py",
   "mimetype": "text/x-python",
   "name": "python",
   "nbconvert_exporter": "python",
   "pygments_lexer": "ipython3",
   "version": "3.8.6"
  },
  "toc": {
   "base_numbering": 1,
   "nav_menu": {},
   "number_sections": true,
   "sideBar": true,
   "skip_h1_title": false,
   "title_cell": "Table of Contents",
   "title_sidebar": "Contents",
   "toc_cell": false,
   "toc_position": {},
   "toc_section_display": true,
   "toc_window_display": false
  }
 },
 "nbformat": 4,
 "nbformat_minor": 5
}
