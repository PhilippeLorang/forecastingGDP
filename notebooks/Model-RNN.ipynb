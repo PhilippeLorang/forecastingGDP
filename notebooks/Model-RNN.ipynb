{
 "cells": [
  {
   "cell_type": "code",
   "execution_count": 96,
   "id": "012b2796",
   "metadata": {},
   "outputs": [],
   "source": [
    "import pandas as pd\n",
    "import numpy as np\n",
    "import sys\n",
    "import matplotlib.pyplot as plt\n",
    "import seaborn as sns\n",
    "from fredapi import Fred\n",
    "from tensorflow.keras.preprocessing.sequence import pad_sequences\n",
    "from tensorflow.keras import models\n",
    "from tensorflow.keras import layers\n",
    "from tensorflow.keras.optimizers import RMSprop\n",
    "from forecastingGDP.data import get_data\n",
    "from sklearn.preprocessing import MinMaxScaler\n",
    "from scipy.interpolate import interp1d"
   ]
  },
  {
   "cell_type": "markdown",
   "id": "000f06de",
   "metadata": {},
   "source": [
    "### Data"
   ]
  },
  {
   "cell_type": "markdown",
   "id": "cf826124",
   "metadata": {},
   "source": [
    "#### Retrieval"
   ]
  },
  {
   "cell_type": "code",
   "execution_count": 97,
   "id": "977593dd",
   "metadata": {},
   "outputs": [],
   "source": [
    "df=get_data()"
   ]
  },
  {
   "cell_type": "code",
   "execution_count": 98,
   "id": "31bcf409",
   "metadata": {},
   "outputs": [
    {
     "data": {
      "text/plain": [
       "(299, 54)"
      ]
     },
     "execution_count": 98,
     "metadata": {},
     "output_type": "execute_result"
    }
   ],
   "source": [
    "df.shape"
   ]
  },
  {
   "cell_type": "code",
   "execution_count": 99,
   "id": "2430f9fa",
   "metadata": {},
   "outputs": [
    {
     "name": "stdout",
     "output_type": "stream",
     "text": [
      "Start: 1947-01-01 00:00:00\n",
      "End: 2021-07-01 00:00:00\n"
     ]
    }
   ],
   "source": [
    "#Starting and ending date\n",
    "print(f'Start: {df.index[0]}')\n",
    "print(f'End: {df.index[-1]}')"
   ]
  },
  {
   "cell_type": "code",
   "execution_count": 100,
   "id": "d20354ea",
   "metadata": {},
   "outputs": [
    {
     "data": {
      "text/html": [
       "<div>\n",
       "<style scoped>\n",
       "    .dataframe tbody tr th:only-of-type {\n",
       "        vertical-align: middle;\n",
       "    }\n",
       "\n",
       "    .dataframe tbody tr th {\n",
       "        vertical-align: top;\n",
       "    }\n",
       "\n",
       "    .dataframe thead th {\n",
       "        text-align: right;\n",
       "    }\n",
       "</style>\n",
       "<table border=\"1\" class=\"dataframe\">\n",
       "  <thead>\n",
       "    <tr style=\"text-align: right;\">\n",
       "      <th></th>\n",
       "      <th>column_name</th>\n",
       "      <th>percent_missing</th>\n",
       "    </tr>\n",
       "  </thead>\n",
       "  <tbody>\n",
       "    <tr>\n",
       "      <th>ATLSBUSRGEP_first_release</th>\n",
       "      <td>ATLSBUSRGEP_first_release</td>\n",
       "      <td>98.662207</td>\n",
       "    </tr>\n",
       "    <tr>\n",
       "      <th>DTWEXAFEGS_first_release</th>\n",
       "      <td>DTWEXAFEGS_first_release</td>\n",
       "      <td>96.655518</td>\n",
       "    </tr>\n",
       "    <tr>\n",
       "      <th>MARTSMPCSM44000USS_first_release</th>\n",
       "      <td>MARTSMPCSM44000USS_first_release</td>\n",
       "      <td>94.983278</td>\n",
       "    </tr>\n",
       "    <tr>\n",
       "      <th>ATLSBUSRGEP</th>\n",
       "      <td>ATLSBUSRGEP</td>\n",
       "      <td>93.979933</td>\n",
       "    </tr>\n",
       "    <tr>\n",
       "      <th>IEAXGS_first_release</th>\n",
       "      <td>IEAXGS_first_release</td>\n",
       "      <td>90.635452</td>\n",
       "    </tr>\n",
       "    <tr>\n",
       "      <th>IEAMGSN_first_release</th>\n",
       "      <td>IEAMGSN_first_release</td>\n",
       "      <td>90.635452</td>\n",
       "    </tr>\n",
       "    <tr>\n",
       "      <th>BAMLH0A0HYM2_first_release</th>\n",
       "      <td>BAMLH0A0HYM2_first_release</td>\n",
       "      <td>90.301003</td>\n",
       "    </tr>\n",
       "    <tr>\n",
       "      <th>VIXCLS_first_release</th>\n",
       "      <td>VIXCLS_first_release</td>\n",
       "      <td>90.301003</td>\n",
       "    </tr>\n",
       "    <tr>\n",
       "      <th>DGS10_first_release</th>\n",
       "      <td>DGS10_first_release</td>\n",
       "      <td>90.301003</td>\n",
       "    </tr>\n",
       "    <tr>\n",
       "      <th>T10Y2Y_first_release</th>\n",
       "      <td>T10Y2Y_first_release</td>\n",
       "      <td>89.632107</td>\n",
       "    </tr>\n",
       "    <tr>\n",
       "      <th>LNU05026648_first_release</th>\n",
       "      <td>LNU05026648_first_release</td>\n",
       "      <td>86.622074</td>\n",
       "    </tr>\n",
       "    <tr>\n",
       "      <th>SP500_first_release</th>\n",
       "      <td>SP500_first_release</td>\n",
       "      <td>86.622074</td>\n",
       "    </tr>\n",
       "    <tr>\n",
       "      <th>SP500</th>\n",
       "      <td>SP500</td>\n",
       "      <td>86.622074</td>\n",
       "    </tr>\n",
       "    <tr>\n",
       "      <th>CFNAI_first_release</th>\n",
       "      <td>CFNAI_first_release</td>\n",
       "      <td>86.287625</td>\n",
       "    </tr>\n",
       "    <tr>\n",
       "      <th>AMTMNO_first_release</th>\n",
       "      <td>AMTMNO_first_release</td>\n",
       "      <td>86.287625</td>\n",
       "    </tr>\n",
       "    <tr>\n",
       "      <th>DTWEXAFEGS</th>\n",
       "      <td>DTWEXAFEGS</td>\n",
       "      <td>79.264214</td>\n",
       "    </tr>\n",
       "    <tr>\n",
       "      <th>PCEC96</th>\n",
       "      <td>PCEC96</td>\n",
       "      <td>74.247492</td>\n",
       "    </tr>\n",
       "    <tr>\n",
       "      <th>PCEPILFE_first_release</th>\n",
       "      <td>PCEPILFE_first_release</td>\n",
       "      <td>71.906355</td>\n",
       "    </tr>\n",
       "    <tr>\n",
       "      <th>IEAXGS</th>\n",
       "      <td>IEAXGS</td>\n",
       "      <td>70.234114</td>\n",
       "    </tr>\n",
       "    <tr>\n",
       "      <th>IEAMGSN</th>\n",
       "      <td>IEAMGSN</td>\n",
       "      <td>70.234114</td>\n",
       "    </tr>\n",
       "    <tr>\n",
       "      <th>UMCSENT_first_release</th>\n",
       "      <td>UMCSENT_first_release</td>\n",
       "      <td>69.230769</td>\n",
       "    </tr>\n",
       "    <tr>\n",
       "      <th>BAMLH0A0HYM2</th>\n",
       "      <td>BAMLH0A0HYM2</td>\n",
       "      <td>67.224080</td>\n",
       "    </tr>\n",
       "    <tr>\n",
       "      <th>NEWORDER_first_release</th>\n",
       "      <td>NEWORDER_first_release</td>\n",
       "      <td>67.224080</td>\n",
       "    </tr>\n",
       "    <tr>\n",
       "      <th>TCU_first_release</th>\n",
       "      <td>TCU_first_release</td>\n",
       "      <td>66.889632</td>\n",
       "    </tr>\n",
       "    <tr>\n",
       "      <th>PPIACO_first_release</th>\n",
       "      <td>PPIACO_first_release</td>\n",
       "      <td>66.889632</td>\n",
       "    </tr>\n",
       "    <tr>\n",
       "      <th>LNU05026648</th>\n",
       "      <td>LNU05026648</td>\n",
       "      <td>63.545151</td>\n",
       "    </tr>\n",
       "    <tr>\n",
       "      <th>MARTSMPCSM44000USS</th>\n",
       "      <td>MARTSMPCSM44000USS</td>\n",
       "      <td>61.204013</td>\n",
       "    </tr>\n",
       "    <tr>\n",
       "      <th>AMTMNO</th>\n",
       "      <td>AMTMNO</td>\n",
       "      <td>61.204013</td>\n",
       "    </tr>\n",
       "    <tr>\n",
       "      <th>NEWORDER</th>\n",
       "      <td>NEWORDER</td>\n",
       "      <td>60.869565</td>\n",
       "    </tr>\n",
       "    <tr>\n",
       "      <th>GDPC1_first_release</th>\n",
       "      <td>GDPC1_first_release</td>\n",
       "      <td>60.535117</td>\n",
       "    </tr>\n",
       "    <tr>\n",
       "      <th>VIXCLS</th>\n",
       "      <td>VIXCLS</td>\n",
       "      <td>57.859532</td>\n",
       "    </tr>\n",
       "    <tr>\n",
       "      <th>IMPCH</th>\n",
       "      <td>IMPCH</td>\n",
       "      <td>51.505017</td>\n",
       "    </tr>\n",
       "    <tr>\n",
       "      <th>IMPCH_first_release</th>\n",
       "      <td>IMPCH_first_release</td>\n",
       "      <td>51.170569</td>\n",
       "    </tr>\n",
       "    <tr>\n",
       "      <th>DSPIC96_first_release</th>\n",
       "      <td>DSPIC96_first_release</td>\n",
       "      <td>44.147157</td>\n",
       "    </tr>\n",
       "    <tr>\n",
       "      <th>PCEC96_first_release</th>\n",
       "      <td>PCEC96_first_release</td>\n",
       "      <td>44.147157</td>\n",
       "    </tr>\n",
       "    <tr>\n",
       "      <th>T10Y2Y</th>\n",
       "      <td>T10Y2Y</td>\n",
       "      <td>39.799331</td>\n",
       "    </tr>\n",
       "    <tr>\n",
       "      <th>CPIAUCSL_first_release</th>\n",
       "      <td>CPIAUCSL_first_release</td>\n",
       "      <td>34.448161</td>\n",
       "    </tr>\n",
       "    <tr>\n",
       "      <th>CFNAI</th>\n",
       "      <td>CFNAI</td>\n",
       "      <td>27.759197</td>\n",
       "    </tr>\n",
       "    <tr>\n",
       "      <th>TCU</th>\n",
       "      <td>TCU</td>\n",
       "      <td>27.424749</td>\n",
       "    </tr>\n",
       "    <tr>\n",
       "      <th>DGS10</th>\n",
       "      <td>DGS10</td>\n",
       "      <td>20.401338</td>\n",
       "    </tr>\n",
       "    <tr>\n",
       "      <th>CE16OV_first_release</th>\n",
       "      <td>CE16OV_first_release</td>\n",
       "      <td>19.063545</td>\n",
       "    </tr>\n",
       "    <tr>\n",
       "      <th>UNRATE_first_release</th>\n",
       "      <td>UNRATE_first_release</td>\n",
       "      <td>17.725753</td>\n",
       "    </tr>\n",
       "    <tr>\n",
       "      <th>PCEPILFE</th>\n",
       "      <td>PCEPILFE</td>\n",
       "      <td>16.722408</td>\n",
       "    </tr>\n",
       "    <tr>\n",
       "      <th>DSPIC96</th>\n",
       "      <td>DSPIC96</td>\n",
       "      <td>16.722408</td>\n",
       "    </tr>\n",
       "    <tr>\n",
       "      <th>UMCSENT</th>\n",
       "      <td>UMCSENT</td>\n",
       "      <td>11.705686</td>\n",
       "    </tr>\n",
       "    <tr>\n",
       "      <th>PAYEMS_first_release</th>\n",
       "      <td>PAYEMS_first_release</td>\n",
       "      <td>11.371237</td>\n",
       "    </tr>\n",
       "    <tr>\n",
       "      <th>CE16OV</th>\n",
       "      <td>CE16OV</td>\n",
       "      <td>2.006689</td>\n",
       "    </tr>\n",
       "    <tr>\n",
       "      <th>UNRATE</th>\n",
       "      <td>UNRATE</td>\n",
       "      <td>2.006689</td>\n",
       "    </tr>\n",
       "    <tr>\n",
       "      <th>PPIACO</th>\n",
       "      <td>PPIACO</td>\n",
       "      <td>0.668896</td>\n",
       "    </tr>\n",
       "    <tr>\n",
       "      <th>CPIAUCSL</th>\n",
       "      <td>CPIAUCSL</td>\n",
       "      <td>0.668896</td>\n",
       "    </tr>\n",
       "    <tr>\n",
       "      <th>PAYEMS</th>\n",
       "      <td>PAYEMS</td>\n",
       "      <td>0.668896</td>\n",
       "    </tr>\n",
       "    <tr>\n",
       "      <th>INDPRO</th>\n",
       "      <td>INDPRO</td>\n",
       "      <td>0.668896</td>\n",
       "    </tr>\n",
       "    <tr>\n",
       "      <th>GDPC1</th>\n",
       "      <td>GDPC1</td>\n",
       "      <td>0.668896</td>\n",
       "    </tr>\n",
       "    <tr>\n",
       "      <th>INDPRO_first_release</th>\n",
       "      <td>INDPRO_first_release</td>\n",
       "      <td>0.334448</td>\n",
       "    </tr>\n",
       "  </tbody>\n",
       "</table>\n",
       "</div>"
      ],
      "text/plain": [
       "                                                       column_name  \\\n",
       "ATLSBUSRGEP_first_release                ATLSBUSRGEP_first_release   \n",
       "DTWEXAFEGS_first_release                  DTWEXAFEGS_first_release   \n",
       "MARTSMPCSM44000USS_first_release  MARTSMPCSM44000USS_first_release   \n",
       "ATLSBUSRGEP                                            ATLSBUSRGEP   \n",
       "IEAXGS_first_release                          IEAXGS_first_release   \n",
       "IEAMGSN_first_release                        IEAMGSN_first_release   \n",
       "BAMLH0A0HYM2_first_release              BAMLH0A0HYM2_first_release   \n",
       "VIXCLS_first_release                          VIXCLS_first_release   \n",
       "DGS10_first_release                            DGS10_first_release   \n",
       "T10Y2Y_first_release                          T10Y2Y_first_release   \n",
       "LNU05026648_first_release                LNU05026648_first_release   \n",
       "SP500_first_release                            SP500_first_release   \n",
       "SP500                                                        SP500   \n",
       "CFNAI_first_release                            CFNAI_first_release   \n",
       "AMTMNO_first_release                          AMTMNO_first_release   \n",
       "DTWEXAFEGS                                              DTWEXAFEGS   \n",
       "PCEC96                                                      PCEC96   \n",
       "PCEPILFE_first_release                      PCEPILFE_first_release   \n",
       "IEAXGS                                                      IEAXGS   \n",
       "IEAMGSN                                                    IEAMGSN   \n",
       "UMCSENT_first_release                        UMCSENT_first_release   \n",
       "BAMLH0A0HYM2                                          BAMLH0A0HYM2   \n",
       "NEWORDER_first_release                      NEWORDER_first_release   \n",
       "TCU_first_release                                TCU_first_release   \n",
       "PPIACO_first_release                          PPIACO_first_release   \n",
       "LNU05026648                                            LNU05026648   \n",
       "MARTSMPCSM44000USS                              MARTSMPCSM44000USS   \n",
       "AMTMNO                                                      AMTMNO   \n",
       "NEWORDER                                                  NEWORDER   \n",
       "GDPC1_first_release                            GDPC1_first_release   \n",
       "VIXCLS                                                      VIXCLS   \n",
       "IMPCH                                                        IMPCH   \n",
       "IMPCH_first_release                            IMPCH_first_release   \n",
       "DSPIC96_first_release                        DSPIC96_first_release   \n",
       "PCEC96_first_release                          PCEC96_first_release   \n",
       "T10Y2Y                                                      T10Y2Y   \n",
       "CPIAUCSL_first_release                      CPIAUCSL_first_release   \n",
       "CFNAI                                                        CFNAI   \n",
       "TCU                                                            TCU   \n",
       "DGS10                                                        DGS10   \n",
       "CE16OV_first_release                          CE16OV_first_release   \n",
       "UNRATE_first_release                          UNRATE_first_release   \n",
       "PCEPILFE                                                  PCEPILFE   \n",
       "DSPIC96                                                    DSPIC96   \n",
       "UMCSENT                                                    UMCSENT   \n",
       "PAYEMS_first_release                          PAYEMS_first_release   \n",
       "CE16OV                                                      CE16OV   \n",
       "UNRATE                                                      UNRATE   \n",
       "PPIACO                                                      PPIACO   \n",
       "CPIAUCSL                                                  CPIAUCSL   \n",
       "PAYEMS                                                      PAYEMS   \n",
       "INDPRO                                                      INDPRO   \n",
       "GDPC1                                                        GDPC1   \n",
       "INDPRO_first_release                          INDPRO_first_release   \n",
       "\n",
       "                                  percent_missing  \n",
       "ATLSBUSRGEP_first_release               98.662207  \n",
       "DTWEXAFEGS_first_release                96.655518  \n",
       "MARTSMPCSM44000USS_first_release        94.983278  \n",
       "ATLSBUSRGEP                             93.979933  \n",
       "IEAXGS_first_release                    90.635452  \n",
       "IEAMGSN_first_release                   90.635452  \n",
       "BAMLH0A0HYM2_first_release              90.301003  \n",
       "VIXCLS_first_release                    90.301003  \n",
       "DGS10_first_release                     90.301003  \n",
       "T10Y2Y_first_release                    89.632107  \n",
       "LNU05026648_first_release               86.622074  \n",
       "SP500_first_release                     86.622074  \n",
       "SP500                                   86.622074  \n",
       "CFNAI_first_release                     86.287625  \n",
       "AMTMNO_first_release                    86.287625  \n",
       "DTWEXAFEGS                              79.264214  \n",
       "PCEC96                                  74.247492  \n",
       "PCEPILFE_first_release                  71.906355  \n",
       "IEAXGS                                  70.234114  \n",
       "IEAMGSN                                 70.234114  \n",
       "UMCSENT_first_release                   69.230769  \n",
       "BAMLH0A0HYM2                            67.224080  \n",
       "NEWORDER_first_release                  67.224080  \n",
       "TCU_first_release                       66.889632  \n",
       "PPIACO_first_release                    66.889632  \n",
       "LNU05026648                             63.545151  \n",
       "MARTSMPCSM44000USS                      61.204013  \n",
       "AMTMNO                                  61.204013  \n",
       "NEWORDER                                60.869565  \n",
       "GDPC1_first_release                     60.535117  \n",
       "VIXCLS                                  57.859532  \n",
       "IMPCH                                   51.505017  \n",
       "IMPCH_first_release                     51.170569  \n",
       "DSPIC96_first_release                   44.147157  \n",
       "PCEC96_first_release                    44.147157  \n",
       "T10Y2Y                                  39.799331  \n",
       "CPIAUCSL_first_release                  34.448161  \n",
       "CFNAI                                   27.759197  \n",
       "TCU                                     27.424749  \n",
       "DGS10                                   20.401338  \n",
       "CE16OV_first_release                    19.063545  \n",
       "UNRATE_first_release                    17.725753  \n",
       "PCEPILFE                                16.722408  \n",
       "DSPIC96                                 16.722408  \n",
       "UMCSENT                                 11.705686  \n",
       "PAYEMS_first_release                    11.371237  \n",
       "CE16OV                                   2.006689  \n",
       "UNRATE                                   2.006689  \n",
       "PPIACO                                   0.668896  \n",
       "CPIAUCSL                                 0.668896  \n",
       "PAYEMS                                   0.668896  \n",
       "INDPRO                                   0.668896  \n",
       "GDPC1                                    0.668896  \n",
       "INDPRO_first_release                     0.334448  "
      ]
     },
     "execution_count": 100,
     "metadata": {},
     "output_type": "execute_result"
    }
   ],
   "source": [
    "#Missing Values %\n",
    "percent_missing = df.isnull().sum() * 100 / len(df)\n",
    "missing_value_df = pd.DataFrame({'column_name': df.columns,\n",
    "                                 'percent_missing': percent_missing})\n",
    "\n",
    "missing_value_df=missing_value_df.sort_values('percent_missing',ascending=False)\n",
    "missing_value_df\n"
   ]
  },
  {
   "cell_type": "code",
   "execution_count": 101,
   "id": "d018aa36",
   "metadata": {},
   "outputs": [
    {
     "data": {
      "image/png": "[encoded data removed]",
      "text/plain": [
       "<Figure size 1728x864 with 1 Axes>"
      ]
     },
     "metadata": {
      "needs_background": "light"
     },
     "output_type": "display_data"
    }
   ],
   "source": [
    "plt.figure(figsize=(24, 12))\n",
    "plt.plot(df,label=df.columns,);\n",
    "\n"
   ]
  },
  {
   "cell_type": "code",
   "execution_count": 102,
   "id": "5a2a1f4c",
   "metadata": {},
   "outputs": [
    {
     "data": {
      "text/plain": [
       "8578"
      ]
     },
     "execution_count": 102,
     "metadata": {},
     "output_type": "execute_result"
    }
   ],
   "source": [
    "#Number of NaN in df\n",
    "df.isnull().sum().sum()"
   ]
  },
  {
   "cell_type": "code",
   "execution_count": 103,
   "id": "f2d316ea",
   "metadata": {},
   "outputs": [],
   "source": [
    "###Test with the most complete features\n",
    "df=df[['GDPC1','INDPRO', 'PAYEMS','PPIACO']].dropna()"
   ]
  },
  {
   "cell_type": "code",
   "execution_count": 161,
   "id": "1a662500",
   "metadata": {},
   "outputs": [],
   "source": [
    "#No Covid Crisis\n",
    "df=df[:-4]"
   ]
  },
  {
   "cell_type": "code",
   "execution_count": null,
   "id": "fe4f06c0",
   "metadata": {},
   "outputs": [],
   "source": []
  },
  {
   "cell_type": "code",
   "execution_count": 156,
   "id": "a4f8c86a",
   "metadata": {
    "scrolled": true
   },
   "outputs": [
    {
     "data": {
      "image/png": "[encoded data removed]",
      "text/plain": [
       "<Figure size 432x288 with 1 Axes>"
      ]
     },
     "metadata": {
      "needs_background": "light"
     },
     "output_type": "display_data"
    }
   ],
   "source": [
    "#Interpolation test\n",
    "X=np.arange(0, 297)\n",
    "y=df['GDPC1']\n",
    "f = interp1d(X, y)\n",
    "xnew = np.arange(0, 296, (1/3))\n",
    "ynew = f(xnew)\n",
    "plt.plot(X, y, 'o', xnew, ynew, '-')\n",
    "plt.show()"
   ]
  },
  {
   "cell_type": "code",
   "execution_count": 164,
   "id": "f850f919",
   "metadata": {},
   "outputs": [
    {
     "data": {
      "text/plain": [
       "array([ 2033.061     ,  2031.25366667,  2029.44633333,  2027.639     ,\n",
       "        2026.24333333,  2024.84766667,  2023.452     ,  2034.00233333,\n",
       "        2044.55266667,  2055.103     ,  2065.40766667,  2075.71233333,\n",
       "        2086.017     ,  2097.49466667,  2108.97233333,  2120.45      ,\n",
       "        2124.49933333,  2128.54866667,  2132.598     ,  2133.39233333,\n",
       "        2134.18666667,  2134.981     ,  2125.17466667,  2115.36833333,\n",
       "        2105.562     ,  2103.168     ,  2100.774     ,  2098.38      ,\n",
       "        2105.60133333,  2112.82266667,  2120.044     ,  2114.113     ,\n",
       "        2108.182     ,  2102.251     ,  2129.79133333,  2157.33166667,\n",
       "        2184.872     ,  2207.08366667,  2229.29533333,  2251.507     ,\n",
       "        2280.50933333,  2309.51166667,  2338.514     ,  2353.43966667,\n",
       "        2368.36533333,  2383.291     ,  2394.08066667,  2404.87033333,\n",
       "        2415.66      ,  2429.61233333,  2443.56466667,  2457.517     ,\n",
       "        2474.4       ,  2491.283     ,  2508.166     ,  2510.00733333,\n",
       "        2511.84866667,  2513.69      ,  2522.64333333,  2531.59666667,\n",
       "        2540.55      ,  2542.374     ,  2544.198     ,  2546.022     ,\n",
       "        2552.14833333,  2558.27466667,  2564.401     ,  2592.47433333,\n",
       "        2620.54766667,  2648.621     ,  2665.03233333,  2681.44366667,\n",
       "        2697.855     ,  2704.80633333,  2711.75766667,  2718.709     ,\n",
       "        2713.60966667,  2708.51033333,  2703.411     ,  2689.768     ,\n",
       "        2676.125     ,  2662.482     ,  2658.23966667,  2653.99733333,\n",
       "        2649.755     ,  2650.71766667,  2651.68033333,  2652.643     ,\n",
       "        2662.629     ,  2672.615     ,  2682.601     ,  2700.09766667,\n",
       "        2717.59433333,  2735.091     ,  2761.13133333,  2787.17166667,\n",
       "        2813.212     ,  2828.47066667,  2843.72933333,  2858.988     ,\n",
       "        2871.858     ,  2884.728     ,  2897.598     ,  2903.39633333,\n",
       "        2909.19466667,  2914.993     ,  2911.219     ,  2907.445     ,\n",
       "        2903.671     ,  2911.669     ,  2919.667     ,  2927.665     ,\n",
       "        2926.78833333,  2925.91166667,  2925.035     ,  2941.083     ,\n",
       "        2957.131     ,  2973.179     ,  2979.52566667,  2985.87233333,\n",
       "        2992.219     ,  2990.03366667,  2987.84833333,  2985.663     ,\n",
       "        2995.415     ,  3005.167     ,  3014.919     ,  3004.52166667,\n",
       "        2994.12433333,  2983.727     ,  2957.90933333,  2932.09166667,\n",
       "        2906.274     ,  2912.64233333,  2919.01066667,  2925.379     ,\n",
       "        2947.942     ,  2970.505     ,  2993.068     ,  3016.407     ,\n",
       "        3039.746     ,  3063.085     ,  3082.702     ,  3102.319     ,\n",
       "        3121.936     ,  3145.41733333,  3168.89866667,  3192.38      ,\n",
       "        3193.13766667,  3193.89533333,  3194.653     ,  3197.68833333,\n",
       "        3200.72366667,  3203.759     ,  3227.75833333,  3251.75766667,\n",
       "        3275.757     ,  3269.86733333,  3263.97766667,  3258.088     ,\n",
       "        3263.40166667,  3268.71533333,  3274.029     ,  3260.02233333,\n",
       "        3246.01566667,  3232.009     ,  3239.28133333,  3246.55366667,\n",
       "        3253.826     ,  3272.237     ,  3290.648     ,  3309.059     ,\n",
       "        3330.233     ,  3351.407     ,  3372.581     ,  3394.62766667,\n",
       "        3416.67433333,  3438.721     ,  3459.16533333,  3479.60966667,\n",
       "        3500.054     ,  3510.597     ,  3521.14      ,  3531.683     ,\n",
       "        3546.14533333,  3560.60766667,  3575.07      ,  3578.989     ,\n",
       "        3582.908     ,  3586.827     ,  3599.87833333,  3612.92966667,\n",
       "        3625.981     ,  3639.54366667,  3653.10633333,  3666.669     ,\n",
       "        3693.53866667,  3720.40833333,  3747.278     ,  3755.467     ,\n",
       "        3763.656     ,  3771.845     ,  3798.352     ,  3824.859     ,\n",
       "        3851.366     ,  3865.34266667,  3879.31933333,  3893.296     ,\n",
       "        3913.571     ,  3933.846     ,  3954.121     ,  3958.19233333,\n",
       "        3962.26366667,  3966.335     ,  3998.327     ,  4030.319     ,\n",
       "        4062.311     ,  4079.417     ,  4096.523     ,  4113.629     ,\n",
       "        4144.11466667,  4174.60033333,  4205.086     ,  4237.38166667,\n",
       "        4269.67733333,  4301.973     ,  4336.87966667,  4371.78633333,\n",
       "        4406.693     ,  4411.711     ,  4416.729     ,  4421.747     ,\n",
       "        4434.22966667,  4446.71233333,  4459.195     ,  4471.389     ,\n",
       "        4483.583     ,  4495.777     ,  4509.04833333,  4522.31966667,\n",
       "        4535.591     ,  4536.51733333,  4537.44366667,  4538.37      ,\n",
       "        4552.683     ,  4566.996     ,  4581.309     ,  4592.82366667,\n",
       "        4604.33833333,  4615.853     ,  4647.233     ,  4678.613     ,\n",
       "        4709.993     ,  4736.22466667,  4762.45633333,  4788.688     ,\n",
       "        4801.05833333,  4813.42866667,  4825.799     ,  4832.12566667,\n",
       "        4838.45233333,  4844.779     ,  4870.05433333,  4895.32966667,\n",
       "        4920.605     ,  4925.59133333,  4930.57766667,  4935.564     ,\n",
       "        4946.43066667,  4957.29733333,  4968.164     ,  4960.08766667,\n",
       "        4952.01133333,  4943.935     ,  4941.488     ,  4939.041     ,\n",
       "        4936.594     ,  4938.92933333,  4941.26466667,  4943.6       ,\n",
       "        4958.78633333,  4973.97266667,  4989.159     ,  4971.337     ,\n",
       "        4953.515     ,  4935.693     ,  4980.37733333,  5025.06166667,\n",
       "        5069.746     ,  5078.89033333,  5088.03466667,  5097.179     ,\n",
       "        5111.162     ,  5125.145     ,  5139.128     ,  5143.167     ,\n",
       "        5147.206     ,  5151.245     ,  5182.82133333,  5214.39766667,\n",
       "        5245.974     ,  5285.66433333,  5325.35466667,  5365.045     ,\n",
       "        5381.934     ,  5398.823     ,  5415.712     ,  5445.94      ,\n",
       "        5476.168     ,  5506.396     ,  5551.82033333,  5597.24466667,\n",
       "        5642.669     ,  5663.14533333,  5683.62166667,  5704.098     ,\n",
       "        5694.09866667,  5684.09933333,  5674.1       ,  5692.05333333,\n",
       "        5710.00666667,  5727.96      ,  5711.54433333,  5695.12866667,\n",
       "        5678.713     ,  5683.212     ,  5687.711     ,  5692.21      ,\n",
       "        5674.277     ,  5656.344     ,  5638.411     ,  5631.116     ,\n",
       "        5623.821     ,  5616.526     ,  5593.736     ,  5570.946     ,\n",
       "        5548.156     ,  5561.37066667,  5574.58533333,  5587.8       ,\n",
       "        5619.68133333,  5651.56266667,  5683.444     ,  5708.95333333,\n",
       "        5734.46266667,  5759.972     ,  5803.148     ,  5846.324     ,\n",
       "        5889.5       ,  5903.90366667,  5918.30733333,  5932.711     ,\n",
       "        5943.56233333,  5954.41366667,  5965.265     ,  5979.678     ,\n",
       "        5994.091     ,  6008.504     ,  6032.16733333,  6055.83066667,\n",
       "        6079.494     ,  6118.89133333,  6158.28866667,  6197.686     ,\n",
       "        6234.962     ,  6272.238     ,  6309.514     ,  6309.56      ,\n",
       "        6309.606     ,  6309.652     ,  6316.365     ,  6323.078     ,\n",
       "        6329.791     ,  6411.324     ,  6492.857     ,  6574.39      ,\n",
       "        6596.42566667,  6618.46133333,  6640.497     ,  6670.24966667,\n",
       "        6700.00233333,  6729.755     ,  6733.788     ,  6737.821     ,\n",
       "        6741.854     ,  6744.257     ,  6746.66      ,  6749.063     ,\n",
       "        6765.77533333,  6782.48766667,  6799.2       ,  6804.86766667,\n",
       "        6810.53533333,  6816.203     ,  6823.349     ,  6830.495     ,\n",
       "        6837.641     ,  6790.67833333,  6743.71566667,  6696.753     ,\n",
       "        6694.1       ,  6691.447     ,  6688.794     ,  6730.37433333,\n",
       "        6771.95466667,  6813.535     ,  6858.03733333,  6902.53966667,\n",
       "        6947.042     ,  6929.881     ,  6912.72      ,  6895.559     ,\n",
       "        6923.08433333,  6950.60966667,  6978.135     ,  6952.79166667,\n",
       "        6927.44833333,  6902.105     ,  6866.36266667,  6830.62033333,\n",
       "        6794.878     ,  6805.21066667,  6815.54333333,  6825.876     ,\n",
       "        6817.17766667,  6808.47933333,  6799.781     ,  6800.68633333,\n",
       "        6801.59166667,  6802.497     ,  6832.37933333,  6862.26166667,\n",
       "        6892.144     ,  6944.42333333,  6996.70266667,  7048.982     ,\n",
       "        7095.95333333,  7142.92466667,  7189.896     ,  7239.895     ,\n",
       "        7289.894     ,  7339.893     ,  7387.719     ,  7435.545     ,\n",
       "        7483.371     ,  7526.47      ,  7569.569     ,  7612.668     ,\n",
       "        7637.13166667,  7661.59533333,  7686.059     ,  7707.08966667,\n",
       "        7728.12033333,  7749.151     ,  7774.183     ,  7799.215     ,\n",
       "        7824.247     ,  7847.21      ,  7870.173     ,  7893.136     ,\n",
       "        7933.31533333,  7973.49466667,  8013.674     ,  8033.529     ,\n",
       "        8053.384     ,  8073.239     ,  8098.36033333,  8123.48166667,\n",
       "        8148.603     ,  8160.83633333,  8173.06966667,  8185.303     ,\n",
       "        8211.415     ,  8237.527     ,  8263.639     ,  8278.433     ,\n",
       "        8293.227     ,  8308.021     ,  8328.65733333,  8349.29366667,\n",
       "        8369.93      ,  8400.031     ,  8430.132     ,  8460.233     ,\n",
       "        8484.70033333,  8509.16766667,  8533.635     ,  8582.47733333,\n",
       "        8631.31966667,  8680.162     ,  8695.11      ,  8710.058     ,\n",
       "        8725.006     ,  8763.21766667,  8801.42933333,  8839.641     ,\n",
       "        8856.90566667,  8874.17033333,  8891.435     ,  8930.92766667,\n",
       "        8970.42033333,  9009.913     ,  9040.44466667,  9070.97633333,\n",
       "        9101.508     ,  9124.66433333,  9147.82066667,  9170.977     ,\n",
       "        9193.62566667,  9216.27433333,  9238.923     ,  9244.99133333,\n",
       "        9251.05966667,  9257.128     ,  9290.84833333,  9324.56866667,\n",
       "        9358.289     ,  9369.60966667,  9380.93033333,  9392.251     ,\n",
       "        9394.33366667,  9396.41633333,  9398.499     ,  9369.97833333,\n",
       "        9341.45766667,  9312.937     ,  9298.41366667,  9283.89033333,\n",
       "        9269.367     ,  9293.45866667,  9317.55033333,  9341.642     ,\n",
       "        9357.37633333,  9373.11066667,  9388.845     ,  9399.75166667,\n",
       "        9410.65833333,  9421.565     ,  9459.15866667,  9496.75233333,\n",
       "        9534.346     ,  9568.808     ,  9603.27      ,  9637.732     ,\n",
       "        9669.481     ,  9701.23      ,  9732.979     ,  9766.82266667,\n",
       "        9800.66633333,  9834.51      ,  9839.99766667,  9845.48533333,\n",
       "        9850.973     ,  9870.09766667,  9889.22233333,  9908.347     ,\n",
       "        9924.11166667,  9939.87633333,  9955.641     , 10000.777     ,\n",
       "       10045.913     , 10091.049     , 10123.684     , 10156.319     ,\n",
       "       10188.954     , 10234.97566667, 10280.99733333, 10327.019     ,\n",
       "       10347.14      , 10367.261     , 10387.382     , 10427.04533333,\n",
       "       10466.70866667, 10506.372     , 10518.796     , 10531.22      ,\n",
       "       10543.644     , 10554.12933333, 10564.61466667, 10575.1       ,\n",
       "       10605.08666667, 10635.07333333, 10665.06      , 10689.19933333,\n",
       "       10713.33866667, 10737.478     , 10764.284     , 10791.09      ,\n",
       "       10817.896     , 10878.038     , 10938.18      , 10998.322     ,\n",
       "       11031.20666667, 11064.09133333, 11096.976     , 11135.38566667,\n",
       "       11173.79533333, 11212.205     , 11236.33233333, 11260.45966667,\n",
       "       11284.587     , 11347.10366667, 11409.62033333, 11472.137     ,\n",
       "       11519.97      , 11567.803     , 11615.636     , 11648.88833333,\n",
       "       11682.14066667, 11715.393     , 11754.424     , 11793.455     ,\n",
       "       11832.486     , 11869.00133333, 11905.51666667, 11942.032     ,\n",
       "       11991.89266667, 12041.75333333, 12091.614     , 12156.74266667,\n",
       "       12221.87133333, 12287.        , 12325.76433333, 12364.52866667,\n",
       "       12403.293     , 12435.09333333, 12466.89366667, 12498.694     ,\n",
       "       12553.25766667, 12607.82133333, 12662.385     , 12734.121     ,\n",
       "       12805.857     , 12877.593     , 12893.12166667, 12908.65033333,\n",
       "       12924.179     , 13003.06666667, 13081.95433333, 13160.842     ,\n",
       "       13166.701     , 13172.56      , 13178.419     , 13205.78133333,\n",
       "       13233.14366667, 13260.506     , 13247.90066667, 13235.29533333,\n",
       "       13222.69      , 13248.45466667, 13274.21933333, 13299.984     ,\n",
       "       13281.584     , 13263.184     , 13244.784     , 13256.809     ,\n",
       "       13268.834     , 13280.859     , 13319.57333333, 13358.28766667,\n",
       "       13397.002     , 13424.052     , 13451.102     , 13478.152     ,\n",
       "       13498.12533333, 13518.09866667, 13538.072     , 13545.05866667,\n",
       "       13552.04533333, 13559.032     , 13584.10566667, 13609.17933333,\n",
       "       13634.253     , 13673.34966667, 13712.44633333, 13751.543     ,\n",
       "       13829.38633333, 13907.22966667, 13985.073     , 14038.597     ,\n",
       "       14092.121     , 14145.645     , 14170.81233333, 14195.97966667,\n",
       "       14221.147     , 14257.27233333, 14293.39766667, 14329.523     ,\n",
       "       14374.67666667, 14419.83033333, 14464.984     , 14513.28133333,\n",
       "       14561.57866667, 14609.876     , 14663.78466667, 14717.69333333,\n",
       "       14771.602     , 14794.32866667, 14817.05533333, 14839.782     ,\n",
       "       14883.87266667, 14927.96333333, 14972.054     , 15003.56833333,\n",
       "       15035.08266667, 15066.597     , 15133.40666667, 15200.21633333,\n",
       "       15267.026     , 15278.919     , 15290.812     , 15302.705     ,\n",
       "       15310.59266667, 15318.48033333, 15326.368     , 15369.888     ,\n",
       "       15413.408     , 15456.928     , 15469.06133333, 15481.19466667,\n",
       "       15493.328     , 15522.91366667, 15552.49933333, 15582.085     ,\n",
       "       15610.30266667, 15638.52033333, 15666.738     , 15698.481     ,\n",
       "       15730.224     , 15761.967     , 15731.77233333, 15701.57766667,\n",
       "       15671.383     , 15698.358     , 15725.333     , 15752.308     ,\n",
       "       15723.88266667, 15695.45733333, 15667.032     , 15554.03033333,\n",
       "       15441.02866667, 15328.027     , 15270.66466667, 15213.30233333,\n",
       "       15155.94      , 15148.66566667, 15141.39133333, 15134.117     ,\n",
       "       15152.48533333, 15170.85366667, 15189.222     , 15244.834     ,\n",
       "       15300.446     , 15356.058     , 15375.75366667, 15395.44933333,\n",
       "       15415.145     , 15462.52233333, 15509.89966667, 15557.277     ,\n",
       "       15595.507     , 15633.737     , 15671.967     , 15698.18633333,\n",
       "       15724.40566667, 15750.625     , 15738.00133333, 15725.37766667,\n",
       "       15712.754     , 15750.20133333, 15787.64866667, 15825.096     ,\n",
       "       15823.63066667, 15822.16533333, 15820.7       , 15881.83566667,\n",
       "       15942.97133333, 16004.107     , 16045.87733333, 16087.64766667,\n",
       "       16129.418     , 16152.54766667, 16175.67733333, 16198.807     ,\n",
       "       16206.09366667, 16213.38033333, 16220.667     , 16226.824     ,\n",
       "       16232.981     , 16239.138     , 16287.08      , 16335.022     ,\n",
       "       16382.964     , 16389.70266667, 16396.44133333, 16403.18      ,\n",
       "       16446.015     , 16488.85      , 16531.685     , 16575.673     ,\n",
       "       16619.661     , 16663.649     , 16647.946     , 16632.243     ,\n",
       "       16616.54      , 16691.51833333, 16766.49666667, 16841.475     ,\n",
       "       16910.016     , 16978.557     , 17047.098     , 17079.078     ,\n",
       "       17111.058     , 17143.038     , 17197.276     , 17251.514     ,\n",
       "       17305.752     , 17344.783     , 17383.814     , 17422.845     ,\n",
       "       17443.90366667, 17464.96233333, 17486.021     , 17495.368     ,\n",
       "       17504.715     , 17514.062     , 17547.12933333, 17580.19666667,\n",
       "       17613.264     , 17631.577     , 17649.89      , 17668.203     ,\n",
       "       17700.26466667, 17732.32633333, 17764.388     , 17801.65166667,\n",
       "       17838.91533333, 17876.179     , 17909.88566667, 17943.59233333,\n",
       "       17977.299     , 18002.88333333, 18028.46766667, 18054.052     ,\n",
       "       18097.91333333, 18141.77466667, 18185.636     , 18243.568     ,\n",
       "       18301.5       , 18359.432     , 18416.449     , 18473.466     ,\n",
       "       18530.483     , 18571.783     , 18613.083     , 18654.383     ,\n",
       "       18687.04033333, 18719.69766667, 18752.355     , 18772.87766667,\n",
       "       18793.40033333, 18813.923     , 18859.39766667, 18904.87233333,\n",
       "       18950.347     , 18973.76433333, 18997.18166667, 19020.599     ,\n",
       "       19060.98066667, 19101.36233333, 19141.744     , 19179.149     ,\n",
       "       19216.554     , 19253.959     , 19172.922     , 19091.885     ,\n",
       "       19010.848     , 18441.40233333, 17871.95666667, 17302.511     ,\n",
       "       17733.84766667, 18165.18433333, 18596.521     , 18662.48933333,\n",
       "       18728.45766667, 18794.426     , 18891.74233333, 18989.05866667])"
      ]
     },
     "execution_count": 164,
     "metadata": {},
     "output_type": "execute_result"
    }
   ],
   "source": [
    "ynew"
   ]
  },
  {
   "cell_type": "markdown",
   "id": "82b6f6a7",
   "metadata": {},
   "source": [
    "#### df_train & df_test split"
   ]
  },
  {
   "cell_type": "code",
   "execution_count": 50,
   "id": "89559634",
   "metadata": {},
   "outputs": [],
   "source": [
    "# Time Serie split \n",
    "#We separate df into df_train and df_test such that the first 80% of the dataframe are in the training. \n",
    "#And the last 20% in the test set.\n",
    "\n",
    "len_ = int(0.6*df.shape[0])\n",
    "df_train = df[:len_]\n",
    "df_test = df[len_:len_+int(len(df[len_:])/2)]\n",
    "df_val=df[len_+int(len(df[len_:])/2):]\n",
    "assert df_train.shape[0]+df_test.shape[0]+df_val.shape[0] == df.shape[0]"
   ]
  },
  {
   "cell_type": "code",
   "execution_count": 51,
   "id": "24677677",
   "metadata": {},
   "outputs": [
    {
     "data": {
      "text/html": [
       "<div>\n",
       "<style scoped>\n",
       "    .dataframe tbody tr th:only-of-type {\n",
       "        vertical-align: middle;\n",
       "    }\n",
       "\n",
       "    .dataframe tbody tr th {\n",
       "        vertical-align: top;\n",
       "    }\n",
       "\n",
       "    .dataframe thead th {\n",
       "        text-align: right;\n",
       "    }\n",
       "</style>\n",
       "<table border=\"1\" class=\"dataframe\">\n",
       "  <thead>\n",
       "    <tr style=\"text-align: right;\">\n",
       "      <th></th>\n",
       "      <th>GDPC1</th>\n",
       "      <th>INDPRO</th>\n",
       "      <th>PAYEMS</th>\n",
       "      <th>PPIACO</th>\n",
       "    </tr>\n",
       "  </thead>\n",
       "  <tbody>\n",
       "    <tr>\n",
       "      <th>0</th>\n",
       "      <td>0.001303</td>\n",
       "      <td>0.005089</td>\n",
       "      <td>0.004973</td>\n",
       "      <td>0.000000</td>\n",
       "    </tr>\n",
       "    <tr>\n",
       "      <th>1</th>\n",
       "      <td>0.000568</td>\n",
       "      <td>0.005270</td>\n",
       "      <td>0.006220</td>\n",
       "      <td>0.002103</td>\n",
       "    </tr>\n",
       "    <tr>\n",
       "      <th>2</th>\n",
       "      <td>0.000000</td>\n",
       "      <td>0.005817</td>\n",
       "      <td>0.011028</td>\n",
       "      <td>0.009464</td>\n",
       "    </tr>\n",
       "    <tr>\n",
       "      <th>3</th>\n",
       "      <td>0.004292</td>\n",
       "      <td>0.013451</td>\n",
       "      <td>0.018886</td>\n",
       "      <td>0.021030</td>\n",
       "    </tr>\n",
       "    <tr>\n",
       "      <th>4</th>\n",
       "      <td>0.008483</td>\n",
       "      <td>0.016360</td>\n",
       "      <td>0.020989</td>\n",
       "      <td>0.027340</td>\n",
       "    </tr>\n",
       "  </tbody>\n",
       "</table>\n",
       "</div>"
      ],
      "text/plain": [
       "      GDPC1    INDPRO    PAYEMS    PPIACO\n",
       "0  0.001303  0.005089  0.004973  0.000000\n",
       "1  0.000568  0.005270  0.006220  0.002103\n",
       "2  0.000000  0.005817  0.011028  0.009464\n",
       "3  0.004292  0.013451  0.018886  0.021030\n",
       "4  0.008483  0.016360  0.020989  0.027340"
      ]
     },
     "execution_count": 51,
     "metadata": {},
     "output_type": "execute_result"
    }
   ],
   "source": [
    "# Scale with MinMaxScale so they have the same range\n",
    "columns = df.columns\n",
    "\n",
    "scaler = MinMaxScaler()\n",
    "df_train = pd.DataFrame(scaler.fit_transform(df_train), columns=columns)\n",
    "df_test = pd.DataFrame(scaler.transform(df_test), columns=columns)\n",
    "df_val=pd.DataFrame(scaler.transform(df_val), columns=columns)\n",
    "df_train.head()"
   ]
  },
  {
   "cell_type": "code",
   "execution_count": 52,
   "id": "bfef143e",
   "metadata": {},
   "outputs": [
    {
     "data": {
      "text/plain": [
       "(178, 4)"
      ]
     },
     "execution_count": 52,
     "metadata": {},
     "output_type": "execute_result"
    }
   ],
   "source": [
    "df_train.shape"
   ]
  },
  {
   "cell_type": "code",
   "execution_count": 53,
   "id": "b3fad1f5",
   "metadata": {},
   "outputs": [
    {
     "data": {
      "text/plain": [
       "(59, 4)"
      ]
     },
     "execution_count": 53,
     "metadata": {},
     "output_type": "execute_result"
    }
   ],
   "source": [
    "df_test.shape"
   ]
  },
  {
   "cell_type": "code",
   "execution_count": 54,
   "id": "e3c5cb59",
   "metadata": {},
   "outputs": [],
   "source": [
    "def subsample_sequence(df, length):\n",
    "    \"\"\"\n",
    "    Given the initial dataframe `df`, return a shorter dataframe sequence of length `length`.\n",
    "    This shorter sequence should be selected at random\n",
    "    \"\"\"\n",
    "    last_possible = df.shape[0] - length\n",
    "    \n",
    "    random_start = np.random.randint(0, last_possible)\n",
    "    df_sample = df[random_start: random_start+length]\n",
    "    \n",
    "    return df_sample\n",
    "\n",
    "\n",
    "def compute_means(X, df_mean):\n",
    "    # Compute means of X\n",
    "    means = X.mean()\n",
    "    \n",
    "    # Case if ALL values of at least one feature of X are NaN, then reaplace with the whole df_mean\n",
    "    if means.isna().sum() != 0:\n",
    "        means.fillna(df_mean, inplace=True)\n",
    "        \n",
    "    return means\n",
    "\n",
    "def split_subsample_sequence(df, length, df_mean=None):\n",
    "    '''Return one single random sample (X_sample, y_sample) containing one sequence each of length `length`'''\n",
    "    # Trick to save time during potential recursive calls\n",
    "    if df_mean is None:\n",
    "        df_mean = df.mean()\n",
    "\n",
    "    df_subsample = subsample_sequence(df, length)\n",
    "    \n",
    "    y_sample = df_subsample.iloc[length-1]['GDPC1']\n",
    "    # Case y_sample is NaN: redraw !\n",
    "    if y_sample != y_sample: # A value is not equal to itself only for NaN\n",
    "            X_sample, y_sample = split_subsample_sequence(df, length, df_mean) # Recursive call !!!\n",
    "            return np.array(X_sample), np.array(y_sample)\n",
    "\n",
    "    X_sample = df_subsample[0:length-1]\n",
    "    # Case X_sample has some NaNs\n",
    "    if X_sample.isna().sum().sum() !=0:\n",
    "        X_sample = X_sample.fillna(compute_means(X_sample, df_mean))\n",
    "        X_sample = X_sample.values\n",
    "        \n",
    "    return np.array(X_sample), np.array(y_sample)\n",
    "\n",
    "def get_X_y(df, n_sequences, length):\n",
    "    '''Return a list of samples (X, y)'''\n",
    "    X, y = [], []\n",
    "\n",
    "    for i in range(n_sequences):\n",
    "        (xi, yi) = split_subsample_sequence(df, length)\n",
    "        X.append(xi)\n",
    "        y.append(yi)\n",
    "        \n",
    "    X = np.array(X)\n",
    "    y = np.array(y)\n",
    "    \n",
    "    return X, y"
   ]
  },
  {
   "cell_type": "code",
   "execution_count": 135,
   "id": "f03e65d2",
   "metadata": {},
   "outputs": [
    {
     "name": "stdout",
     "output_type": "stream",
     "text": [
      "(290, 3, 4)\n",
      "(290,)\n"
     ]
    }
   ],
   "source": [
    "#Sequences has to be >100 for our model to train correclty\n",
    "X_train, y_train = get_X_y(df_train, 290, 4)\n",
    "print(X_train.shape)\n",
    "print(y_train.shape)"
   ]
  },
  {
   "cell_type": "code",
   "execution_count": 136,
   "id": "d67525ec",
   "metadata": {},
   "outputs": [
    {
     "name": "stdout",
     "output_type": "stream",
     "text": [
      "(30, 3, 4)\n",
      "(30,)\n"
     ]
    }
   ],
   "source": [
    "X_test, y_test = get_X_y(df_test, 30, 4)\n",
    "print(X_test.shape)\n",
    "print(y_test.shape)"
   ]
  },
  {
   "cell_type": "code",
   "execution_count": 137,
   "id": "c05f396f",
   "metadata": {},
   "outputs": [
    {
     "name": "stdout",
     "output_type": "stream",
     "text": [
      "(50, 3, 4)\n",
      "(50,)\n"
     ]
    }
   ],
   "source": [
    "X_val, y_val = get_X_y(df_val, 50, 4)\n",
    "print(X_val.shape)\n",
    "print(y_val.shape)"
   ]
  },
  {
   "cell_type": "code",
   "execution_count": 138,
   "id": "ff2d0bf6",
   "metadata": {},
   "outputs": [],
   "source": [
    "input_shape=X_train[0].shape"
   ]
  },
  {
   "cell_type": "markdown",
   "id": "e275121f",
   "metadata": {},
   "source": [
    "### RNN MODEL"
   ]
  },
  {
   "cell_type": "code",
   "execution_count": 139,
   "id": "c0819bd2",
   "metadata": {},
   "outputs": [
    {
     "name": "stdout",
     "output_type": "stream",
     "text": [
      "Benchmark MAPE on the test set : 69.80 %\n"
     ]
    }
   ],
   "source": [
    "# Mean of the train set y_train\n",
    "y_pred_baseline = np.mean(y_train)\n",
    "bench_res = np.mean(np.abs(y_pred_baseline - y_test)/y_test)*100\n",
    "\n",
    "print(f'Benchmark MAPE on the test set : {bench_res:.2f} %')"
   ]
  },
  {
   "cell_type": "code",
   "execution_count": 140,
   "id": "931343f4",
   "metadata": {},
   "outputs": [
    {
     "name": "stdout",
     "output_type": "stream",
     "text": [
      "Benchmark MAPE on the test set : 1.09 %\n"
     ]
    }
   ],
   "source": [
    "# Predict MAPE with last GDP value\n",
    "y_pred_baseline = X_test[:,-1,0]\n",
    "bench_res = np.mean(np.abs(y_pred_baseline - y_test)/y_test)*100\n",
    "print(f'Benchmark MAPE on the test set : {bench_res:.2f} %')"
   ]
  },
  {
   "cell_type": "code",
   "execution_count": 141,
   "id": "3463bdc9",
   "metadata": {},
   "outputs": [
    {
     "name": "stdout",
     "output_type": "stream",
     "text": [
      "Benchmark MAE on the test set : 0.9557\n"
     ]
    }
   ],
   "source": [
    "# We here decide to predict the mean of the train set y_train\n",
    "y_pred_baseline = np.mean(y_train)\n",
    "bench_res = np.mean(np.abs(y_pred_baseline-y_test))\n",
    "\n",
    "print(f'Benchmark MAE on the test set : {bench_res:.4f}')"
   ]
  },
  {
   "cell_type": "code",
   "execution_count": 142,
   "id": "00becf77",
   "metadata": {},
   "outputs": [
    {
     "name": "stdout",
     "output_type": "stream",
     "text": [
      "Benchmark MAE on the test set : 0.01 %\n"
     ]
    }
   ],
   "source": [
    "# Predict MAE with last GDP value\n",
    "y_pred_baseline = X_test[:,-1,0]\n",
    "bench_res = np.mean(np.abs(y_pred_baseline - y_test))\n",
    "print(f'Benchmark MAE on the test set : {bench_res:.2f} %')"
   ]
  },
  {
   "cell_type": "code",
   "execution_count": 143,
   "id": "04f22088",
   "metadata": {},
   "outputs": [
    {
     "name": "stdout",
     "output_type": "stream",
     "text": [
      "Benchmark RMSE on the test set : 0.9833\n"
     ]
    }
   ],
   "source": [
    "# We here decide to predict the mean of the train set y_train\n",
    "y_pred_baseline = np.mean(y_train)\n",
    "bench_res = np.sqrt(np.mean(np.square(y_pred_baseline-y_test)))\n",
    "print(f'Benchmark RMSE on the test set : {bench_res:.4f}')"
   ]
  },
  {
   "cell_type": "code",
   "execution_count": 144,
   "id": "3d5bc80f",
   "metadata": {},
   "outputs": [
    {
     "name": "stdout",
     "output_type": "stream",
     "text": [
      "Benchmark RMSE on the test set : 0.0162\n"
     ]
    }
   ],
   "source": [
    "# Predict RMSE with last GDP value\n",
    "y_pred_baseline = X_test[:,-1,0]\n",
    "bench_res = np.sqrt(np.mean(np.square(y_pred_baseline-y_test)))\n",
    "print(f'Benchmark RMSE on the test set : {bench_res:.4f}')"
   ]
  },
  {
   "cell_type": "code",
   "execution_count": 145,
   "id": "91013265",
   "metadata": {},
   "outputs": [
    {
     "data": {
      "text/plain": [
       "(3, 4)"
      ]
     },
     "execution_count": 145,
     "metadata": {},
     "output_type": "execute_result"
    }
   ],
   "source": [
    "input_shape=X_train.shape[1:]\n",
    "input_shape"
   ]
  },
  {
   "cell_type": "code",
   "execution_count": 170,
   "id": "0ae3265e",
   "metadata": {
    "scrolled": true
   },
   "outputs": [
    {
     "name": "stdout",
     "output_type": "stream",
     "text": [
      "Model: \"sequential_27\"\n",
      "_________________________________________________________________\n",
      "Layer (type)                 Output Shape              Param #   \n",
      "=================================================================\n",
      "lstm_48 (LSTM)               (None, 3, 20)             2000      \n",
      "_________________________________________________________________\n",
      "lstm_49 (LSTM)               (None, 10)                1240      \n",
      "_________________________________________________________________\n",
      "dense_54 (Dense)             (None, 5)                 55        \n",
      "_________________________________________________________________\n",
      "dense_55 (Dense)             (None, 1)                 6         \n",
      "=================================================================\n",
      "Total params: 3,301\n",
      "Trainable params: 3,301\n",
      "Non-trainable params: 0\n",
      "_________________________________________________________________\n"
     ]
    }
   ],
   "source": [
    "def init_model():\n",
    "    \n",
    "    model = models.Sequential()\n",
    "\n",
    "    model.add(layers.LSTM(20, return_sequences=True, activation='tanh', input_shape=input_shape))\n",
    "    model.add(layers.LSTM(10, activation='tanh'))\n",
    "    model.add(layers.Dense(5, activation='relu'))\n",
    "    model.add(layers.Dense(1, activation='linear'))\n",
    "    \n",
    "    model.compile(loss='mean_squared_logarithmic_error', \n",
    "                  optimizer='rmsprop', \n",
    "                  metrics=['mae','mape'])\n",
    "    \n",
    "    return model\n",
    "\n",
    "init_model().summary()"
   ]
  },
  {
   "cell_type": "code",
   "execution_count": null,
   "id": "c9046104",
   "metadata": {},
   "outputs": [],
   "source": [
    "#grid search test\n",
    "# create model\n",
    "model = init_model()\n",
    "# define the grid search parameters\n",
    "weight_constraint = [1, 2, 3, 4, 5]\n",
    "dropout_rate = [0.0, 0.1, 0.2, 0.3, 0.4, 0.5, 0.6, 0.7, 0.8, 0.9]\n",
    "param_grid = dict(dropout_rate=dropout_rate, weight_constraint=weight_constraint)\n",
    "grid = GridSearchCV(estimator=model, param_grid=param_grid, n_jobs=-1, cv=3)\n",
    "grid_result = grid.fit(X, Y)"
   ]
  },
  {
   "cell_type": "code",
   "execution_count": 171,
   "id": "8f5088e6",
   "metadata": {},
   "outputs": [],
   "source": [
    "from tensorflow.keras.callbacks import EarlyStopping\n",
    "\n",
    "es=EarlyStopping(patience=10,restore_best_weights=True)\n",
    "model = init_model()\n",
    "\n",
    "\n",
    "\n",
    "history = model.fit(X_train, y_train,\n",
    "            validation_data=(X_val,y_val),\n",
    "            epochs=1000, \n",
    "            batch_size=16,\n",
    "            verbose=0,\n",
    "            callbacks=[es])"
   ]
  },
  {
   "cell_type": "code",
   "execution_count": 172,
   "id": "fb660c6b",
   "metadata": {},
   "outputs": [
    {
     "data": {
      "image/png": "[encoded data removed]",
      "text/plain": [
       "<Figure size 576x288 with 1 Axes>"
      ]
     },
     "metadata": {
      "needs_background": "light"
     },
     "output_type": "display_data"
    }
   ],
   "source": [
    "plt.figure(figsize=(8,4))\n",
    "plt.plot(history.history['loss'], label='Train Loss')\n",
    "plt.plot(history.history['val_loss'], label='Test Loss')\n",
    "plt.title('model loss')\n",
    "plt.ylabel('loss')\n",
    "plt.xlabel('epochs')\n",
    "plt.legend(loc='upper right')\n",
    "plt.show();"
   ]
  },
  {
   "cell_type": "code",
   "execution_count": 173,
   "id": "881a1469",
   "metadata": {},
   "outputs": [
    {
     "name": "stdout",
     "output_type": "stream",
     "text": [
      "MAE on the test set : 0.0840\n",
      "MAPE on the test set: 5.4089\n",
      "RMSE on the test set: 0.2898\n"
     ]
    }
   ],
   "source": [
    "res = model.evaluate(X_test, y_test, verbose=0)\n",
    "\n",
    "print(f'MAE on the test set : {res[1]:.4f}')\n",
    "print(f'MAPE on the test set: {res[2]:.4f}')\n",
    "print(f'RMSE on the test set: {res[1]**0.5:.4f}')"
   ]
  },
  {
   "cell_type": "code",
   "execution_count": 174,
   "id": "ec6d21df",
   "metadata": {},
   "outputs": [
    {
     "name": "stdout",
     "output_type": "stream",
     "text": [
      "WARNING:tensorflow:6 out of the last 6 calls to <function Model.make_predict_function.<locals>.predict_function at 0x164cd2af0> triggered tf.function retracing. Tracing is expensive and the excessive number of tracings could be due to (1) creating @tf.function repeatedly in a loop, (2) passing tensors with different shapes, (3) passing Python objects instead of tensors. For (1), please define your @tf.function outside of the loop. For (2), @tf.function has experimental_relax_shapes=True option that relaxes argument shapes that can avoid unnecessary retracing. For (3), please refer to https://www.tensorflow.org/guide/function#controlling_retracing and https://www.tensorflow.org/api_docs/python/tf/function for  more details.\n"
     ]
    }
   ],
   "source": [
    "y_pred=model.predict(X_test)"
   ]
  },
  {
   "cell_type": "code",
   "execution_count": 175,
   "id": "cfab0aa3",
   "metadata": {},
   "outputs": [
    {
     "data": {
      "image/png": "[encoded data removed]",
      "text/plain": [
       "<Figure size 432x288 with 1 Axes>"
      ]
     },
     "metadata": {
      "needs_background": "light"
     },
     "output_type": "display_data"
    }
   ],
   "source": [
    "x_ax = range(len(X_test))\n",
    "plt.scatter(x_ax, y_test, s=5,label='original')\n",
    "plt.plot(x_ax, y_pred, lw=0.8,color='r',label='prediction')\n",
    "plt.legend()\n",
    "plt.show()"
   ]
  },
  {
   "cell_type": "code",
   "execution_count": 163,
   "id": "a495bcae",
   "metadata": {},
   "outputs": [
    {
     "name": "stdout",
     "output_type": "stream",
     "text": [
      "Model: \"sequential_24\"\n",
      "_________________________________________________________________\n",
      "Layer (type)                 Output Shape              Param #   \n",
      "=================================================================\n",
      "gru_4 (GRU)                  (None, 3, 20)             1560      \n",
      "_________________________________________________________________\n",
      "gru_5 (GRU)                  (None, 10)                960       \n",
      "_________________________________________________________________\n",
      "dense_48 (Dense)             (None, 5)                 55        \n",
      "_________________________________________________________________\n",
      "dense_49 (Dense)             (None, 1)                 6         \n",
      "=================================================================\n",
      "Total params: 2,581\n",
      "Trainable params: 2,581\n",
      "Non-trainable params: 0\n",
      "_________________________________________________________________\n"
     ]
    }
   ],
   "source": [
    "def init_model():\n",
    "    \n",
    "    model = models.Sequential()\n",
    "\n",
    "    model.add(layers.GRU(20, return_sequences=True, activation='tanh', input_shape=input_shape))\n",
    "    model.add(layers.GRU(10, activation='tanh'))\n",
    "    model.add(layers.Dense(5, activation='relu'))\n",
    "    model.add(layers.Dense(1, activation='linear'))\n",
    "    \n",
    "    model.compile(loss='mse', \n",
    "                  optimizer=RMSprop(learning_rate=0.0003), \n",
    "                  metrics=['mae','mape'])\n",
    "    \n",
    "    return model\n",
    "\n",
    "init_model().summary()"
   ]
  },
  {
   "cell_type": "code",
   "execution_count": 31,
   "id": "53846985",
   "metadata": {},
   "outputs": [],
   "source": [
    "from tensorflow.keras.callbacks import EarlyStopping\n",
    "\n",
    "es=EarlyStopping(patience=10,restore_best_weights=True)\n",
    "model = init_model()\n",
    "\n",
    "\n",
    "\n",
    "history = model.fit(X_train, y_train,\n",
    "            validation_data=(X_val,y_val),\n",
    "            epochs=1000, \n",
    "            batch_size=32,\n",
    "            verbose=0,\n",
    "            callbacks=[es])"
   ]
  },
  {
   "cell_type": "code",
   "execution_count": 32,
   "id": "e839643b",
   "metadata": {},
   "outputs": [
    {
     "data": {
      "image/png": "[encoded data removed]",
      "text/plain": [
       "<Figure size 576x288 with 1 Axes>"
      ]
     },
     "metadata": {
      "needs_background": "light"
     },
     "output_type": "display_data"
    }
   ],
   "source": [
    "plt.figure(figsize=(8,4))\n",
    "plt.plot(history.history['loss'], label='Train Loss')\n",
    "plt.plot(history.history['val_loss'], label='Test Loss')\n",
    "plt.title('model loss')\n",
    "plt.ylabel('loss')\n",
    "plt.xlabel('epochs')\n",
    "plt.legend(loc='upper right')\n",
    "plt.show();"
   ]
  },
  {
   "cell_type": "code",
   "execution_count": 33,
   "id": "19f84fe4",
   "metadata": {},
   "outputs": [
    {
     "name": "stdout",
     "output_type": "stream",
     "text": [
      "MAE on the test set : 0.3337\n",
      "MAPE on the test set: 21.6487\n",
      "RMSE on the test set: 0.5777\n"
     ]
    }
   ],
   "source": [
    "res = model.evaluate(X_test, y_test, verbose=0)\n",
    "\n",
    "print(f'MAE on the test set : {res[1]:.4f}')\n",
    "print(f'MAPE on the test set: {res[2]:.4f}')\n",
    "print(f'RMSE on the test set: {res[1]**0.5:.4f}')"
   ]
  },
  {
   "cell_type": "code",
   "execution_count": 34,
   "id": "a4acff92",
   "metadata": {},
   "outputs": [],
   "source": [
    "y_pred=model.predict(X_test)"
   ]
  },
  {
   "cell_type": "code",
   "execution_count": 35,
   "id": "9708e949",
   "metadata": {},
   "outputs": [
    {
     "data": {
      "image/png": "[encoded data removed]",
      "text/plain": [
       "<Figure size 432x288 with 1 Axes>"
      ]
     },
     "metadata": {
      "needs_background": "light"
     },
     "output_type": "display_data"
    }
   ],
   "source": [
    "x_ax = range(len(X_test))\n",
    "plt.scatter(x_ax, y_test, s=5,label='original')\n",
    "plt.plot(x_ax, y_pred, lw=0.8,color='r',label='prediction')\n",
    "plt.legend()\n",
    "plt.show()"
   ]
  }
 ],
 "metadata": {
  "interpreter": {
   "hash": "ebc7675df7c347d8de1a45157daf950eecd0ed3b17a19a71f2cee9d918969706"
  },
  "kernelspec": {
   "display_name": "Python 3",
   "language": "python",
   "name": "python3"
  },
  "language_info": {
   "codemirror_mode": {
    "name": "ipython",
    "version": 3
   },
   "file_extension": ".py",
   "mimetype": "text/x-python",
   "name": "python",
   "nbconvert_exporter": "python",
   "pygments_lexer": "ipython3",
   "version": "3.8.6"
  },
  "toc": {
   "base_numbering": 1,
   "nav_menu": {},
   "number_sections": true,
   "sideBar": true,
   "skip_h1_title": false,
   "title_cell": "Table of Contents",
   "title_sidebar": "Contents",
   "toc_cell": false,
   "toc_position": {},
   "toc_section_display": true,
   "toc_window_display": false
  }
 },
 "nbformat": 4,
 "nbformat_minor": 5
}
