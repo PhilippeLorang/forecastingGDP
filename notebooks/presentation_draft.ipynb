{
 "cells": [
  {
   "cell_type": "markdown",
   "id": "745618b8",
   "metadata": {},
   "source": [
    "#  GDP serie"
   ]
  },
  {
   "cell_type": "markdown",
   "id": "ecb0cd49",
   "metadata": {},
   "source": [
    "the GDP is the value of the goods and services produced by a country economy during a period of time. GDP = C + I +G +(X-M)\n",
    "\n",
    "It is a key statistics on the current state of the economy and GDP is at the heart of economic and monetary policy.\n",
    "GDP official publication is available quarterly and with a delay, after the end of the period (1 month)\n",
    "\n",
    "our objective is twofolds: \n",
    "to visualize and understand the serie pattern\n",
    "look to make a prediction\n",
    "\n",
    "\n",
    "\n",
    "use the serie of deflated GDP, seasonal adjusted.\n",
    "Access through the fed API"
   ]
  },
  {
   "cell_type": "markdown",
   "id": "89ad310c",
   "metadata": {},
   "source": [
    "## GDP serie and visualization"
   ]
  },
  {
   "cell_type": "markdown",
   "id": "01472d11",
   "metadata": {},
   "source": [
    "sharp decline in 2020 with covid event.\n",
    "we remove this period cannot be predicted"
   ]
  },
  {
   "cell_type": "markdown",
   "id": "5b55ad01",
   "metadata": {},
   "source": [
    "The serie seems autocorrelated. so we looked at Arima model "
   ]
  },
  {
   "cell_type": "markdown",
   "id": "12ac9d36",
   "metadata": {},
   "source": [
    "## Arima"
   ]
  },
  {
   "cell_type": "markdown",
   "id": "49209baf",
   "metadata": {},
   "source": [
    "the serie is desesasonalizedcan and is decomposed as a trend, with relatively stationary residuals"
   ]
  },
  {
   "cell_type": "markdown",
   "id": "32594a9d",
   "metadata": {},
   "source": [
    "graph show a significant autocorrelation with previous value\n",
    "=> look at the model"
   ]
  },
  {
   "cell_type": "markdown",
   "id": "197892fa",
   "metadata": {},
   "source": [
    "baseline models = previous value, linear interpolation, polynomial \n",
    "=>relatively low error"
   ]
  },
  {
   "cell_type": "markdown",
   "id": "04bde730",
   "metadata": {},
   "source": [
    "auto arima model to determine arima parameters"
   ]
  },
  {
   "cell_type": "markdown",
   "id": "54737f06",
   "metadata": {},
   "source": [
    "=>arima model better than baseline"
   ]
  },
  {
   "cell_type": "markdown",
   "id": "f12179d8",
   "metadata": {},
   "source": [
    "interpretation"
   ]
  },
  {
   "cell_type": "markdown",
   "id": "35610f86",
   "metadata": {},
   "source": [
    "GDP overall is by nature autoregressive. \n",
    "exogenous shock are not captured by anticipation by the serie itself.\n",
    "Abesnt shock, the value of next quarter is within boudanries set by previous observations"
   ]
  },
  {
   "cell_type": "markdown",
   "id": "25b50a9f",
   "metadata": {},
   "source": [
    "this is where we want to take other features into account with RNN"
   ]
  }
 ],
 "metadata": {
  "kernelspec": {
   "display_name": "Python 3",
   "language": "python",
   "name": "python3"
  },
  "language_info": {
   "codemirror_mode": {
    "name": "ipython",
    "version": 3
   },
   "file_extension": ".py",
   "mimetype": "text/x-python",
   "name": "python",
   "nbconvert_exporter": "python",
   "pygments_lexer": "ipython3",
   "version": "3.8.6"
  },
  "toc": {
   "base_numbering": 1,
   "nav_menu": {},
   "number_sections": true,
   "sideBar": true,
   "skip_h1_title": false,
   "title_cell": "Table of Contents",
   "title_sidebar": "Contents",
   "toc_cell": false,
   "toc_position": {},
   "toc_section_display": true,
   "toc_window_display": false
  }
 },
 "nbformat": 4,
 "nbformat_minor": 5
}
